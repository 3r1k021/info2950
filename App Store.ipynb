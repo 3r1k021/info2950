{
 "cells": [
  {
   "cell_type": "markdown",
   "metadata": {},
   "source": [
    "Erik Ossner, eco9"
   ]
  },
  {
   "cell_type": "markdown",
   "metadata": {},
   "source": [
    "**Data Collection and Research Question / Purpose**: The data collection for this project was done by using the requests package, as well as BeautifulSoup, in order to web scrape the Apple App Store (108 lines of Python). The collection begins at the app store overview page (https://apps.apple.com/us/genre/ios/id36). \n",
    "\n",
    "Next, the user is prompted for their desired category of application to web scrape data from (or it can be inputted as a list of multiple, seperated by commas).\n",
    "\n",
    "In the case of this project, only a subset of related categories are utilized: adventure, action, simulation, and role-playing games. This was done for two reasons, the first of which being that I did not want to exceed the 20MB data limit. And more importantly, the goal here is to show trends based on *related* applications, not just a pool of every category on the app store. \n",
    "\n",
    "After the category is selected, the search page is dynamically searched until a link containing the category keyword is found. This redirects the program to the \"Popular Apps\" section of that category. This project will aim to identify trends in what Apple considers \"top\" applications (based on their ranking algorithm), so this is the key page we need.\n",
    "\n",
    "Every \"Popular Apps\" section contains around 250 applications for the selected category. They are not, however, ranked based purely on high rating, nor download count. In fact, there is no concretely evident method behind this ranking. As such, in order to potentially gain better insight into which apps to have the best shot of being a well promoted application, a variety of variables will be explored and delved further into for each top app, in order to explore relationships and trends: title, description, icon image, summary, rating score (and number of ratings), price, rank, latest date (for update or release), reviews.\n",
    "\n",
    "All of these attributes and scraped from each application on the page, and compiled into a CSV file. Every category (mentioned above) has its own CSV file, but all of them have been merged externally into a single CSV.\n",
    "\n",
    "Data Cleaning and Curation begins below:"
   ]
  },
  {
   "cell_type": "code",
   "execution_count": 1,
   "metadata": {},
   "outputs": [
    {
     "data": {
      "text/html": [
       "<div>\n",
       "<style scoped>\n",
       "    .dataframe tbody tr th:only-of-type {\n",
       "        vertical-align: middle;\n",
       "    }\n",
       "\n",
       "    .dataframe tbody tr th {\n",
       "        vertical-align: top;\n",
       "    }\n",
       "\n",
       "    .dataframe thead th {\n",
       "        text-align: right;\n",
       "    }\n",
       "</style>\n",
       "<table border=\"1\" class=\"dataframe\">\n",
       "  <thead>\n",
       "    <tr style=\"text-align: right;\">\n",
       "      <th></th>\n",
       "      <th>name</th>\n",
       "      <th>description</th>\n",
       "      <th>icon</th>\n",
       "      <th>summary</th>\n",
       "      <th>rating</th>\n",
       "      <th>price</th>\n",
       "      <th>rank</th>\n",
       "      <th>date_latest</th>\n",
       "      <th>reviews</th>\n",
       "      <th>keywords</th>\n",
       "    </tr>\n",
       "  </thead>\n",
       "  <tbody>\n",
       "    <tr>\n",
       "      <th>0</th>\n",
       "      <td>‎Join Clash</td>\n",
       "      <td>Epic survival run! Racing adventure that will ...</td>\n",
       "      <td>https://is2-ssl.mzstatic.com/image/thumb/Purpl...</td>\n",
       "      <td>Fill the City with Crowd!</td>\n",
       "      <td>4.6 • 200.6K Ratings</td>\n",
       "      <td>Free</td>\n",
       "      <td>#6 in Action</td>\n",
       "      <td>October 1, 2020</td>\n",
       "      <td>Hopefully I have your attention! So first off,...</td>\n",
       "      <td>Join Clash, SUPERSONIC STUDIOS LTD, Games, Cas...</td>\n",
       "    </tr>\n",
       "    <tr>\n",
       "      <th>1</th>\n",
       "      <td>‎Survivalcraft 2 Day One</td>\n",
       "      <td>You are marooned on the shores of an infinite ...</td>\n",
       "      <td>https://is1-ssl.mzstatic.com/image/thumb/Purpl...</td>\n",
       "      <td>Advanced Survival and Creative</td>\n",
       "      <td>3.5 • 614 Ratings</td>\n",
       "      <td>Free</td>\n",
       "      <td>#144 in Adventure</td>\n",
       "      <td>January 2, 2020</td>\n",
       "      <td>I was considering buying the full version. I w...</td>\n",
       "      <td>Survivalcraft 2 Day One, Igor Kalicinski, Game...</td>\n",
       "    </tr>\n",
       "    <tr>\n",
       "      <th>2</th>\n",
       "      <td>‎Samurai Slash - Run &amp; Slice</td>\n",
       "      <td>You are the last samurai. Cut off the bullets ...</td>\n",
       "      <td>https://is2-ssl.mzstatic.com/image/thumb/Purpl...</td>\n",
       "      <td>Fun Dash &amp; Cut game</td>\n",
       "      <td>5.0 • 6 Ratings</td>\n",
       "      <td>Free</td>\n",
       "      <td>NaN</td>\n",
       "      <td>NaN</td>\n",
       "      <td>NaN</td>\n",
       "      <td>Samurai Slash - Run &amp; Slice, Ketchapp, Games, ...</td>\n",
       "    </tr>\n",
       "    <tr>\n",
       "      <th>3</th>\n",
       "      <td>‎MilkChoco - Online FPS</td>\n",
       "      <td>Battle Royale Mode released!! : Survival mode ...</td>\n",
       "      <td>https://is3-ssl.mzstatic.com/image/thumb/Purpl...</td>\n",
       "      <td>Simple FPS online Game</td>\n",
       "      <td>4.4 • 1.3K Ratings</td>\n",
       "      <td>Free</td>\n",
       "      <td>NaN</td>\n",
       "      <td>April 8, 2020</td>\n",
       "      <td>So, I just started playing this game and have ...</td>\n",
       "      <td>MilkChoco - Online FPS, GameParadiso, Games, A...</td>\n",
       "    </tr>\n",
       "    <tr>\n",
       "      <th>4</th>\n",
       "      <td>‎Grand Theft Auto V: The Manual</td>\n",
       "      <td>GTAV: The Manual is the official manual app fo...</td>\n",
       "      <td>https://is2-ssl.mzstatic.com/image/thumb/Purpl...</td>\n",
       "      <td>NaN</td>\n",
       "      <td>3.9 • 2.2K Ratings</td>\n",
       "      <td>Free</td>\n",
       "      <td>#157 in Adventure</td>\n",
       "      <td>February 14, 2020</td>\n",
       "      <td>This is the kind of application every great ga...</td>\n",
       "      <td>Grand Theft Auto V: The Manual, Rockstar Games...</td>\n",
       "    </tr>\n",
       "  </tbody>\n",
       "</table>\n",
       "</div>"
      ],
      "text/plain": [
       "                              name  \\\n",
       "0                      ‎Join Clash   \n",
       "1         ‎Survivalcraft 2 Day One   \n",
       "2     ‎Samurai Slash - Run & Slice   \n",
       "3          ‎MilkChoco - Online FPS   \n",
       "4  ‎Grand Theft Auto V: The Manual   \n",
       "\n",
       "                                         description  \\\n",
       "0  Epic survival run! Racing adventure that will ...   \n",
       "1  You are marooned on the shores of an infinite ...   \n",
       "2  You are the last samurai. Cut off the bullets ...   \n",
       "3  Battle Royale Mode released!! : Survival mode ...   \n",
       "4  GTAV: The Manual is the official manual app fo...   \n",
       "\n",
       "                                                icon  \\\n",
       "0  https://is2-ssl.mzstatic.com/image/thumb/Purpl...   \n",
       "1  https://is1-ssl.mzstatic.com/image/thumb/Purpl...   \n",
       "2  https://is2-ssl.mzstatic.com/image/thumb/Purpl...   \n",
       "3  https://is3-ssl.mzstatic.com/image/thumb/Purpl...   \n",
       "4  https://is2-ssl.mzstatic.com/image/thumb/Purpl...   \n",
       "\n",
       "                          summary                rating price  \\\n",
       "0       Fill the City with Crowd!  4.6 • 200.6K Ratings  Free   \n",
       "1  Advanced Survival and Creative     3.5 • 614 Ratings  Free   \n",
       "2             Fun Dash & Cut game       5.0 • 6 Ratings  Free   \n",
       "3          Simple FPS online Game    4.4 • 1.3K Ratings  Free   \n",
       "4                             NaN    3.9 • 2.2K Ratings  Free   \n",
       "\n",
       "                rank        date_latest  \\\n",
       "0       #6 in Action    October 1, 2020   \n",
       "1  #144 in Adventure    January 2, 2020   \n",
       "2                NaN                NaN   \n",
       "3                NaN      April 8, 2020   \n",
       "4  #157 in Adventure  February 14, 2020   \n",
       "\n",
       "                                             reviews  \\\n",
       "0  Hopefully I have your attention! So first off,...   \n",
       "1  I was considering buying the full version. I w...   \n",
       "2                                                NaN   \n",
       "3  So, I just started playing this game and have ...   \n",
       "4  This is the kind of application every great ga...   \n",
       "\n",
       "                                            keywords  \n",
       "0  Join Clash, SUPERSONIC STUDIOS LTD, Games, Cas...  \n",
       "1  Survivalcraft 2 Day One, Igor Kalicinski, Game...  \n",
       "2  Samurai Slash - Run & Slice, Ketchapp, Games, ...  \n",
       "3  MilkChoco - Online FPS, GameParadiso, Games, A...  \n",
       "4  Grand Theft Auto V: The Manual, Rockstar Games...  "
      ]
     },
     "execution_count": 1,
     "metadata": {},
     "output_type": "execute_result"
    }
   ],
   "source": [
    "import pandas as pd\n",
    "from matplotlib import pyplot as plt\n",
    "\n",
    "app_data = pd.read_csv(\"app_data.csv\")\n",
    "app_data.head()"
   ]
  },
  {
   "cell_type": "code",
   "execution_count": 2,
   "metadata": {},
   "outputs": [
    {
     "name": "stdout",
     "output_type": "stream",
     "text": [
      "We have 10 attributes and 964 rows to analyze\n"
     ]
    }
   ],
   "source": [
    "print(\"We have \" + str(len(app_data.columns)) + \" attributes and \" + str(len(app_data)) + \" rows to analyze\")"
   ]
  },
  {
   "cell_type": "markdown",
   "metadata": {},
   "source": [
    "At first glance, this data is not too bad. We have 10 attributes and 964 apps (rows). The first thing to note though, is that interrelated app categories were purposely chosen, and as such, we should account for duplicates (apps listed in more than one of our chosen categories).`"
   ]
  },
  {
   "cell_type": "code",
   "execution_count": 3,
   "metadata": {},
   "outputs": [
    {
     "name": "stdout",
     "output_type": "stream",
     "text": [
      "We have 10 attributes and 813 rows to analyze\n"
     ]
    }
   ],
   "source": [
    "app_data = app_data.drop_duplicates()\n",
    "print(\"We have \" + str(len(app_data.columns)) + \" attributes and \" + str(len(app_data)) + \" rows to analyze\")"
   ]
  },
  {
   "cell_type": "markdown",
   "metadata": {},
   "source": [
    "As we can see, there were 964 - 813 = 151 duplicate apps, which could have significantly skewed the data. Next, when we do analysis of the data, NaN will not be helpful. So, I will replace all instances with an empty string."
   ]
  },
  {
   "cell_type": "code",
   "execution_count": 4,
   "metadata": {},
   "outputs": [
    {
     "data": {
      "text/html": [
       "<div>\n",
       "<style scoped>\n",
       "    .dataframe tbody tr th:only-of-type {\n",
       "        vertical-align: middle;\n",
       "    }\n",
       "\n",
       "    .dataframe tbody tr th {\n",
       "        vertical-align: top;\n",
       "    }\n",
       "\n",
       "    .dataframe thead th {\n",
       "        text-align: right;\n",
       "    }\n",
       "</style>\n",
       "<table border=\"1\" class=\"dataframe\">\n",
       "  <thead>\n",
       "    <tr style=\"text-align: right;\">\n",
       "      <th></th>\n",
       "      <th>name</th>\n",
       "      <th>description</th>\n",
       "      <th>icon</th>\n",
       "      <th>summary</th>\n",
       "      <th>rating</th>\n",
       "      <th>price</th>\n",
       "      <th>rank</th>\n",
       "      <th>date_latest</th>\n",
       "      <th>reviews</th>\n",
       "      <th>keywords</th>\n",
       "    </tr>\n",
       "  </thead>\n",
       "  <tbody>\n",
       "    <tr>\n",
       "      <th>0</th>\n",
       "      <td>‎Join Clash</td>\n",
       "      <td>Epic survival run! Racing adventure that will ...</td>\n",
       "      <td>https://is2-ssl.mzstatic.com/image/thumb/Purpl...</td>\n",
       "      <td>Fill the City with Crowd!</td>\n",
       "      <td>4.6 • 200.6K Ratings</td>\n",
       "      <td>Free</td>\n",
       "      <td>#6 in Action</td>\n",
       "      <td>October 1, 2020</td>\n",
       "      <td>Hopefully I have your attention! So first off,...</td>\n",
       "      <td>Join Clash, SUPERSONIC STUDIOS LTD, Games, Cas...</td>\n",
       "    </tr>\n",
       "    <tr>\n",
       "      <th>1</th>\n",
       "      <td>‎Survivalcraft 2 Day One</td>\n",
       "      <td>You are marooned on the shores of an infinite ...</td>\n",
       "      <td>https://is1-ssl.mzstatic.com/image/thumb/Purpl...</td>\n",
       "      <td>Advanced Survival and Creative</td>\n",
       "      <td>3.5 • 614 Ratings</td>\n",
       "      <td>Free</td>\n",
       "      <td>#144 in Adventure</td>\n",
       "      <td>January 2, 2020</td>\n",
       "      <td>I was considering buying the full version. I w...</td>\n",
       "      <td>Survivalcraft 2 Day One, Igor Kalicinski, Game...</td>\n",
       "    </tr>\n",
       "    <tr>\n",
       "      <th>2</th>\n",
       "      <td>‎Samurai Slash - Run &amp; Slice</td>\n",
       "      <td>You are the last samurai. Cut off the bullets ...</td>\n",
       "      <td>https://is2-ssl.mzstatic.com/image/thumb/Purpl...</td>\n",
       "      <td>Fun Dash &amp; Cut game</td>\n",
       "      <td>5.0 • 6 Ratings</td>\n",
       "      <td>Free</td>\n",
       "      <td></td>\n",
       "      <td></td>\n",
       "      <td></td>\n",
       "      <td>Samurai Slash - Run &amp; Slice, Ketchapp, Games, ...</td>\n",
       "    </tr>\n",
       "    <tr>\n",
       "      <th>3</th>\n",
       "      <td>‎MilkChoco - Online FPS</td>\n",
       "      <td>Battle Royale Mode released!! : Survival mode ...</td>\n",
       "      <td>https://is3-ssl.mzstatic.com/image/thumb/Purpl...</td>\n",
       "      <td>Simple FPS online Game</td>\n",
       "      <td>4.4 • 1.3K Ratings</td>\n",
       "      <td>Free</td>\n",
       "      <td></td>\n",
       "      <td>April 8, 2020</td>\n",
       "      <td>So, I just started playing this game and have ...</td>\n",
       "      <td>MilkChoco - Online FPS, GameParadiso, Games, A...</td>\n",
       "    </tr>\n",
       "    <tr>\n",
       "      <th>4</th>\n",
       "      <td>‎Grand Theft Auto V: The Manual</td>\n",
       "      <td>GTAV: The Manual is the official manual app fo...</td>\n",
       "      <td>https://is2-ssl.mzstatic.com/image/thumb/Purpl...</td>\n",
       "      <td></td>\n",
       "      <td>3.9 • 2.2K Ratings</td>\n",
       "      <td>Free</td>\n",
       "      <td>#157 in Adventure</td>\n",
       "      <td>February 14, 2020</td>\n",
       "      <td>This is the kind of application every great ga...</td>\n",
       "      <td>Grand Theft Auto V: The Manual, Rockstar Games...</td>\n",
       "    </tr>\n",
       "  </tbody>\n",
       "</table>\n",
       "</div>"
      ],
      "text/plain": [
       "                              name  \\\n",
       "0                      ‎Join Clash   \n",
       "1         ‎Survivalcraft 2 Day One   \n",
       "2     ‎Samurai Slash - Run & Slice   \n",
       "3          ‎MilkChoco - Online FPS   \n",
       "4  ‎Grand Theft Auto V: The Manual   \n",
       "\n",
       "                                         description  \\\n",
       "0  Epic survival run! Racing adventure that will ...   \n",
       "1  You are marooned on the shores of an infinite ...   \n",
       "2  You are the last samurai. Cut off the bullets ...   \n",
       "3  Battle Royale Mode released!! : Survival mode ...   \n",
       "4  GTAV: The Manual is the official manual app fo...   \n",
       "\n",
       "                                                icon  \\\n",
       "0  https://is2-ssl.mzstatic.com/image/thumb/Purpl...   \n",
       "1  https://is1-ssl.mzstatic.com/image/thumb/Purpl...   \n",
       "2  https://is2-ssl.mzstatic.com/image/thumb/Purpl...   \n",
       "3  https://is3-ssl.mzstatic.com/image/thumb/Purpl...   \n",
       "4  https://is2-ssl.mzstatic.com/image/thumb/Purpl...   \n",
       "\n",
       "                          summary                rating price  \\\n",
       "0       Fill the City with Crowd!  4.6 • 200.6K Ratings  Free   \n",
       "1  Advanced Survival and Creative     3.5 • 614 Ratings  Free   \n",
       "2             Fun Dash & Cut game       5.0 • 6 Ratings  Free   \n",
       "3          Simple FPS online Game    4.4 • 1.3K Ratings  Free   \n",
       "4                                    3.9 • 2.2K Ratings  Free   \n",
       "\n",
       "                rank        date_latest  \\\n",
       "0       #6 in Action    October 1, 2020   \n",
       "1  #144 in Adventure    January 2, 2020   \n",
       "2                                         \n",
       "3                         April 8, 2020   \n",
       "4  #157 in Adventure  February 14, 2020   \n",
       "\n",
       "                                             reviews  \\\n",
       "0  Hopefully I have your attention! So first off,...   \n",
       "1  I was considering buying the full version. I w...   \n",
       "2                                                      \n",
       "3  So, I just started playing this game and have ...   \n",
       "4  This is the kind of application every great ga...   \n",
       "\n",
       "                                            keywords  \n",
       "0  Join Clash, SUPERSONIC STUDIOS LTD, Games, Cas...  \n",
       "1  Survivalcraft 2 Day One, Igor Kalicinski, Game...  \n",
       "2  Samurai Slash - Run & Slice, Ketchapp, Games, ...  \n",
       "3  MilkChoco - Online FPS, GameParadiso, Games, A...  \n",
       "4  Grand Theft Auto V: The Manual, Rockstar Games...  "
      ]
     },
     "execution_count": 4,
     "metadata": {},
     "output_type": "execute_result"
    }
   ],
   "source": [
    "import numpy as np\n",
    "app_data = app_data.replace(np.nan, '', regex=True)\n",
    "app_data.head()"
   ]
  },
  {
   "cell_type": "markdown",
   "metadata": {},
   "source": [
    "As of now, the name, description, icon, and summary columns are cleaned up. As seen above though, the rating column constains a combination of both the score (out of 5), as well as the number of ratings. We will split these into seperate columns, and change the number of ratings into a purely numerical format."
   ]
  },
  {
   "cell_type": "code",
   "execution_count": 5,
   "metadata": {},
   "outputs": [],
   "source": [
    "import re\n",
    "\n",
    "def to_numeric(string):\n",
    "    factor = 1\n",
    "    if \"K\" in string:\n",
    "        factor = 1000\n",
    "    elif \"M\" in string:\n",
    "        factor = 1000000\n",
    "    elif \"B\" in string:\n",
    "        factor = 1000000000\n",
    "        \n",
    "    #Regex to find all decimals, credited to Tutorialspoint.com\n",
    "    list_num = re.findall('\\d*\\.?\\d+',string)\n",
    "    num_ratings = float(list_num[0]) * factor\n",
    "    return int(num_ratings)"
   ]
  },
  {
   "cell_type": "code",
   "execution_count": 6,
   "metadata": {},
   "outputs": [],
   "source": [
    "ratings = []\n",
    "num_ratings = []\n",
    "for rate in app_data[\"rating\"]:\n",
    "    if not rate == \"\":\n",
    "        ratings.append(float(rate.split(\"•\")[0].strip()))\n",
    "        num_ratings.append(to_numeric(rate.split(\"•\")[1].strip()))\n",
    "    else:\n",
    "        ratings.append(0.0)\n",
    "        num_ratings.append(0)\n",
    "app_data.loc[:, \"rating\"] = ratings\n",
    "app_data[\"rating_count\"] = num_ratings"
   ]
  },
  {
   "cell_type": "code",
   "execution_count": 7,
   "metadata": {},
   "outputs": [
    {
     "data": {
      "text/html": [
       "<div>\n",
       "<style scoped>\n",
       "    .dataframe tbody tr th:only-of-type {\n",
       "        vertical-align: middle;\n",
       "    }\n",
       "\n",
       "    .dataframe tbody tr th {\n",
       "        vertical-align: top;\n",
       "    }\n",
       "\n",
       "    .dataframe thead th {\n",
       "        text-align: right;\n",
       "    }\n",
       "</style>\n",
       "<table border=\"1\" class=\"dataframe\">\n",
       "  <thead>\n",
       "    <tr style=\"text-align: right;\">\n",
       "      <th></th>\n",
       "      <th>name</th>\n",
       "      <th>description</th>\n",
       "      <th>icon</th>\n",
       "      <th>summary</th>\n",
       "      <th>rating</th>\n",
       "      <th>price</th>\n",
       "      <th>rank</th>\n",
       "      <th>date_latest</th>\n",
       "      <th>reviews</th>\n",
       "      <th>keywords</th>\n",
       "      <th>rating_count</th>\n",
       "    </tr>\n",
       "  </thead>\n",
       "  <tbody>\n",
       "    <tr>\n",
       "      <th>0</th>\n",
       "      <td>‎Join Clash</td>\n",
       "      <td>Epic survival run! Racing adventure that will ...</td>\n",
       "      <td>https://is2-ssl.mzstatic.com/image/thumb/Purpl...</td>\n",
       "      <td>Fill the City with Crowd!</td>\n",
       "      <td>4.6</td>\n",
       "      <td>Free</td>\n",
       "      <td>#6 in Action</td>\n",
       "      <td>October 1, 2020</td>\n",
       "      <td>Hopefully I have your attention! So first off,...</td>\n",
       "      <td>Join Clash, SUPERSONIC STUDIOS LTD, Games, Cas...</td>\n",
       "      <td>200600</td>\n",
       "    </tr>\n",
       "    <tr>\n",
       "      <th>1</th>\n",
       "      <td>‎Survivalcraft 2 Day One</td>\n",
       "      <td>You are marooned on the shores of an infinite ...</td>\n",
       "      <td>https://is1-ssl.mzstatic.com/image/thumb/Purpl...</td>\n",
       "      <td>Advanced Survival and Creative</td>\n",
       "      <td>3.5</td>\n",
       "      <td>Free</td>\n",
       "      <td>#144 in Adventure</td>\n",
       "      <td>January 2, 2020</td>\n",
       "      <td>I was considering buying the full version. I w...</td>\n",
       "      <td>Survivalcraft 2 Day One, Igor Kalicinski, Game...</td>\n",
       "      <td>614</td>\n",
       "    </tr>\n",
       "    <tr>\n",
       "      <th>2</th>\n",
       "      <td>‎Samurai Slash - Run &amp; Slice</td>\n",
       "      <td>You are the last samurai. Cut off the bullets ...</td>\n",
       "      <td>https://is2-ssl.mzstatic.com/image/thumb/Purpl...</td>\n",
       "      <td>Fun Dash &amp; Cut game</td>\n",
       "      <td>5.0</td>\n",
       "      <td>Free</td>\n",
       "      <td></td>\n",
       "      <td></td>\n",
       "      <td></td>\n",
       "      <td>Samurai Slash - Run &amp; Slice, Ketchapp, Games, ...</td>\n",
       "      <td>6</td>\n",
       "    </tr>\n",
       "    <tr>\n",
       "      <th>3</th>\n",
       "      <td>‎MilkChoco - Online FPS</td>\n",
       "      <td>Battle Royale Mode released!! : Survival mode ...</td>\n",
       "      <td>https://is3-ssl.mzstatic.com/image/thumb/Purpl...</td>\n",
       "      <td>Simple FPS online Game</td>\n",
       "      <td>4.4</td>\n",
       "      <td>Free</td>\n",
       "      <td></td>\n",
       "      <td>April 8, 2020</td>\n",
       "      <td>So, I just started playing this game and have ...</td>\n",
       "      <td>MilkChoco - Online FPS, GameParadiso, Games, A...</td>\n",
       "      <td>1300</td>\n",
       "    </tr>\n",
       "    <tr>\n",
       "      <th>4</th>\n",
       "      <td>‎Grand Theft Auto V: The Manual</td>\n",
       "      <td>GTAV: The Manual is the official manual app fo...</td>\n",
       "      <td>https://is2-ssl.mzstatic.com/image/thumb/Purpl...</td>\n",
       "      <td></td>\n",
       "      <td>3.9</td>\n",
       "      <td>Free</td>\n",
       "      <td>#157 in Adventure</td>\n",
       "      <td>February 14, 2020</td>\n",
       "      <td>This is the kind of application every great ga...</td>\n",
       "      <td>Grand Theft Auto V: The Manual, Rockstar Games...</td>\n",
       "      <td>2200</td>\n",
       "    </tr>\n",
       "  </tbody>\n",
       "</table>\n",
       "</div>"
      ],
      "text/plain": [
       "                              name  \\\n",
       "0                      ‎Join Clash   \n",
       "1         ‎Survivalcraft 2 Day One   \n",
       "2     ‎Samurai Slash - Run & Slice   \n",
       "3          ‎MilkChoco - Online FPS   \n",
       "4  ‎Grand Theft Auto V: The Manual   \n",
       "\n",
       "                                         description  \\\n",
       "0  Epic survival run! Racing adventure that will ...   \n",
       "1  You are marooned on the shores of an infinite ...   \n",
       "2  You are the last samurai. Cut off the bullets ...   \n",
       "3  Battle Royale Mode released!! : Survival mode ...   \n",
       "4  GTAV: The Manual is the official manual app fo...   \n",
       "\n",
       "                                                icon  \\\n",
       "0  https://is2-ssl.mzstatic.com/image/thumb/Purpl...   \n",
       "1  https://is1-ssl.mzstatic.com/image/thumb/Purpl...   \n",
       "2  https://is2-ssl.mzstatic.com/image/thumb/Purpl...   \n",
       "3  https://is3-ssl.mzstatic.com/image/thumb/Purpl...   \n",
       "4  https://is2-ssl.mzstatic.com/image/thumb/Purpl...   \n",
       "\n",
       "                          summary  rating price               rank  \\\n",
       "0       Fill the City with Crowd!     4.6  Free       #6 in Action   \n",
       "1  Advanced Survival and Creative     3.5  Free  #144 in Adventure   \n",
       "2             Fun Dash & Cut game     5.0  Free                      \n",
       "3          Simple FPS online Game     4.4  Free                      \n",
       "4                                     3.9  Free  #157 in Adventure   \n",
       "\n",
       "         date_latest                                            reviews  \\\n",
       "0    October 1, 2020  Hopefully I have your attention! So first off,...   \n",
       "1    January 2, 2020  I was considering buying the full version. I w...   \n",
       "2                                                                         \n",
       "3      April 8, 2020  So, I just started playing this game and have ...   \n",
       "4  February 14, 2020  This is the kind of application every great ga...   \n",
       "\n",
       "                                            keywords  rating_count  \n",
       "0  Join Clash, SUPERSONIC STUDIOS LTD, Games, Cas...        200600  \n",
       "1  Survivalcraft 2 Day One, Igor Kalicinski, Game...           614  \n",
       "2  Samurai Slash - Run & Slice, Ketchapp, Games, ...             6  \n",
       "3  MilkChoco - Online FPS, GameParadiso, Games, A...          1300  \n",
       "4  Grand Theft Auto V: The Manual, Rockstar Games...          2200  "
      ]
     },
     "execution_count": 7,
     "metadata": {},
     "output_type": "execute_result"
    }
   ],
   "source": [
    "app_data.head()"
   ]
  },
  {
   "cell_type": "markdown",
   "metadata": {},
   "source": [
    "Now, the rating column and rating_count columns are acceptable. Save the file here as an intermediate point."
   ]
  },
  {
   "cell_type": "code",
   "execution_count": 8,
   "metadata": {},
   "outputs": [],
   "source": [
    "app_data.to_csv(\"updated_app_data.csv\", index=False)"
   ]
  },
  {
   "cell_type": "markdown",
   "metadata": {},
   "source": [
    "Next, we move onto price. This column is structred nicely for humans, but for the purposes of structuring this dataset, we will remove the \"$\" characters, and give \"Free\" apps a price of 0.0"
   ]
  },
  {
   "cell_type": "code",
   "execution_count": 9,
   "metadata": {},
   "outputs": [],
   "source": [
    "app_data = pd.read_csv(\"updated_app_data.csv\")\n",
    "app_data = app_data.replace(np.nan, '', regex=True) #It seems to treat the empty string as NaN upon reloading, so repeat this code\n",
    "prices_num = []\n",
    "for price in app_data[\"price\"]:\n",
    "    if price ==\"Free\" or price == \"\":\n",
    "        prices_num.append(0.0)\n",
    "    else:\n",
    "        prices_num.append(float(price[1:]))\n",
    "app_data.loc[:, \"price\"] = prices_num"
   ]
  },
  {
   "cell_type": "code",
   "execution_count": 10,
   "metadata": {},
   "outputs": [
    {
     "data": {
      "text/html": [
       "<div>\n",
       "<style scoped>\n",
       "    .dataframe tbody tr th:only-of-type {\n",
       "        vertical-align: middle;\n",
       "    }\n",
       "\n",
       "    .dataframe tbody tr th {\n",
       "        vertical-align: top;\n",
       "    }\n",
       "\n",
       "    .dataframe thead th {\n",
       "        text-align: right;\n",
       "    }\n",
       "</style>\n",
       "<table border=\"1\" class=\"dataframe\">\n",
       "  <thead>\n",
       "    <tr style=\"text-align: right;\">\n",
       "      <th></th>\n",
       "      <th>name</th>\n",
       "      <th>description</th>\n",
       "      <th>icon</th>\n",
       "      <th>summary</th>\n",
       "      <th>rating</th>\n",
       "      <th>price</th>\n",
       "      <th>rank</th>\n",
       "      <th>date_latest</th>\n",
       "      <th>reviews</th>\n",
       "      <th>keywords</th>\n",
       "      <th>rating_count</th>\n",
       "    </tr>\n",
       "  </thead>\n",
       "  <tbody>\n",
       "    <tr>\n",
       "      <th>0</th>\n",
       "      <td>‎Join Clash</td>\n",
       "      <td>Epic survival run! Racing adventure that will ...</td>\n",
       "      <td>https://is2-ssl.mzstatic.com/image/thumb/Purpl...</td>\n",
       "      <td>Fill the City with Crowd!</td>\n",
       "      <td>4.6</td>\n",
       "      <td>0.0</td>\n",
       "      <td>#6 in Action</td>\n",
       "      <td>October 1, 2020</td>\n",
       "      <td>Hopefully I have your attention! So first off,...</td>\n",
       "      <td>Join Clash, SUPERSONIC STUDIOS LTD, Games, Cas...</td>\n",
       "      <td>200600</td>\n",
       "    </tr>\n",
       "    <tr>\n",
       "      <th>1</th>\n",
       "      <td>‎Survivalcraft 2 Day One</td>\n",
       "      <td>You are marooned on the shores of an infinite ...</td>\n",
       "      <td>https://is1-ssl.mzstatic.com/image/thumb/Purpl...</td>\n",
       "      <td>Advanced Survival and Creative</td>\n",
       "      <td>3.5</td>\n",
       "      <td>0.0</td>\n",
       "      <td>#144 in Adventure</td>\n",
       "      <td>January 2, 2020</td>\n",
       "      <td>I was considering buying the full version. I w...</td>\n",
       "      <td>Survivalcraft 2 Day One, Igor Kalicinski, Game...</td>\n",
       "      <td>614</td>\n",
       "    </tr>\n",
       "    <tr>\n",
       "      <th>2</th>\n",
       "      <td>‎Samurai Slash - Run &amp; Slice</td>\n",
       "      <td>You are the last samurai. Cut off the bullets ...</td>\n",
       "      <td>https://is2-ssl.mzstatic.com/image/thumb/Purpl...</td>\n",
       "      <td>Fun Dash &amp; Cut game</td>\n",
       "      <td>5.0</td>\n",
       "      <td>0.0</td>\n",
       "      <td></td>\n",
       "      <td></td>\n",
       "      <td></td>\n",
       "      <td>Samurai Slash - Run &amp; Slice, Ketchapp, Games, ...</td>\n",
       "      <td>6</td>\n",
       "    </tr>\n",
       "    <tr>\n",
       "      <th>3</th>\n",
       "      <td>‎MilkChoco - Online FPS</td>\n",
       "      <td>Battle Royale Mode released!! : Survival mode ...</td>\n",
       "      <td>https://is3-ssl.mzstatic.com/image/thumb/Purpl...</td>\n",
       "      <td>Simple FPS online Game</td>\n",
       "      <td>4.4</td>\n",
       "      <td>0.0</td>\n",
       "      <td></td>\n",
       "      <td>April 8, 2020</td>\n",
       "      <td>So, I just started playing this game and have ...</td>\n",
       "      <td>MilkChoco - Online FPS, GameParadiso, Games, A...</td>\n",
       "      <td>1300</td>\n",
       "    </tr>\n",
       "    <tr>\n",
       "      <th>4</th>\n",
       "      <td>‎Grand Theft Auto V: The Manual</td>\n",
       "      <td>GTAV: The Manual is the official manual app fo...</td>\n",
       "      <td>https://is2-ssl.mzstatic.com/image/thumb/Purpl...</td>\n",
       "      <td></td>\n",
       "      <td>3.9</td>\n",
       "      <td>0.0</td>\n",
       "      <td>#157 in Adventure</td>\n",
       "      <td>February 14, 2020</td>\n",
       "      <td>This is the kind of application every great ga...</td>\n",
       "      <td>Grand Theft Auto V: The Manual, Rockstar Games...</td>\n",
       "      <td>2200</td>\n",
       "    </tr>\n",
       "  </tbody>\n",
       "</table>\n",
       "</div>"
      ],
      "text/plain": [
       "                              name  \\\n",
       "0                      ‎Join Clash   \n",
       "1         ‎Survivalcraft 2 Day One   \n",
       "2     ‎Samurai Slash - Run & Slice   \n",
       "3          ‎MilkChoco - Online FPS   \n",
       "4  ‎Grand Theft Auto V: The Manual   \n",
       "\n",
       "                                         description  \\\n",
       "0  Epic survival run! Racing adventure that will ...   \n",
       "1  You are marooned on the shores of an infinite ...   \n",
       "2  You are the last samurai. Cut off the bullets ...   \n",
       "3  Battle Royale Mode released!! : Survival mode ...   \n",
       "4  GTAV: The Manual is the official manual app fo...   \n",
       "\n",
       "                                                icon  \\\n",
       "0  https://is2-ssl.mzstatic.com/image/thumb/Purpl...   \n",
       "1  https://is1-ssl.mzstatic.com/image/thumb/Purpl...   \n",
       "2  https://is2-ssl.mzstatic.com/image/thumb/Purpl...   \n",
       "3  https://is3-ssl.mzstatic.com/image/thumb/Purpl...   \n",
       "4  https://is2-ssl.mzstatic.com/image/thumb/Purpl...   \n",
       "\n",
       "                          summary  rating  price               rank  \\\n",
       "0       Fill the City with Crowd!     4.6    0.0       #6 in Action   \n",
       "1  Advanced Survival and Creative     3.5    0.0  #144 in Adventure   \n",
       "2             Fun Dash & Cut game     5.0    0.0                      \n",
       "3          Simple FPS online Game     4.4    0.0                      \n",
       "4                                     3.9    0.0  #157 in Adventure   \n",
       "\n",
       "         date_latest                                            reviews  \\\n",
       "0    October 1, 2020  Hopefully I have your attention! So first off,...   \n",
       "1    January 2, 2020  I was considering buying the full version. I w...   \n",
       "2                                                                         \n",
       "3      April 8, 2020  So, I just started playing this game and have ...   \n",
       "4  February 14, 2020  This is the kind of application every great ga...   \n",
       "\n",
       "                                            keywords  rating_count  \n",
       "0  Join Clash, SUPERSONIC STUDIOS LTD, Games, Cas...        200600  \n",
       "1  Survivalcraft 2 Day One, Igor Kalicinski, Game...           614  \n",
       "2  Samurai Slash - Run & Slice, Ketchapp, Games, ...             6  \n",
       "3  MilkChoco - Online FPS, GameParadiso, Games, A...          1300  \n",
       "4  Grand Theft Auto V: The Manual, Rockstar Games...          2200  "
      ]
     },
     "execution_count": 10,
     "metadata": {},
     "output_type": "execute_result"
    }
   ],
   "source": [
    "app_data.head()"
   ]
  },
  {
   "cell_type": "markdown",
   "metadata": {},
   "source": [
    "The data is cleaned up to the price column. We will also want to convert the data_latest strings into DateTime objects for the computer to easily recognize them."
   ]
  },
  {
   "cell_type": "code",
   "execution_count": 11,
   "metadata": {},
   "outputs": [
    {
     "data": {
      "text/html": [
       "<div>\n",
       "<style scoped>\n",
       "    .dataframe tbody tr th:only-of-type {\n",
       "        vertical-align: middle;\n",
       "    }\n",
       "\n",
       "    .dataframe tbody tr th {\n",
       "        vertical-align: top;\n",
       "    }\n",
       "\n",
       "    .dataframe thead th {\n",
       "        text-align: right;\n",
       "    }\n",
       "</style>\n",
       "<table border=\"1\" class=\"dataframe\">\n",
       "  <thead>\n",
       "    <tr style=\"text-align: right;\">\n",
       "      <th></th>\n",
       "      <th>name</th>\n",
       "      <th>description</th>\n",
       "      <th>icon</th>\n",
       "      <th>summary</th>\n",
       "      <th>rating</th>\n",
       "      <th>price</th>\n",
       "      <th>rank</th>\n",
       "      <th>date_latest</th>\n",
       "      <th>reviews</th>\n",
       "      <th>keywords</th>\n",
       "      <th>rating_count</th>\n",
       "    </tr>\n",
       "  </thead>\n",
       "  <tbody>\n",
       "    <tr>\n",
       "      <th>0</th>\n",
       "      <td>‎Join Clash</td>\n",
       "      <td>Epic survival run! Racing adventure that will ...</td>\n",
       "      <td>https://is2-ssl.mzstatic.com/image/thumb/Purpl...</td>\n",
       "      <td>Fill the City with Crowd!</td>\n",
       "      <td>4.6</td>\n",
       "      <td>0.0</td>\n",
       "      <td>#6 in Action</td>\n",
       "      <td>2020-10-01</td>\n",
       "      <td>Hopefully I have your attention! So first off,...</td>\n",
       "      <td>Join Clash, SUPERSONIC STUDIOS LTD, Games, Cas...</td>\n",
       "      <td>200600</td>\n",
       "    </tr>\n",
       "    <tr>\n",
       "      <th>1</th>\n",
       "      <td>‎Survivalcraft 2 Day One</td>\n",
       "      <td>You are marooned on the shores of an infinite ...</td>\n",
       "      <td>https://is1-ssl.mzstatic.com/image/thumb/Purpl...</td>\n",
       "      <td>Advanced Survival and Creative</td>\n",
       "      <td>3.5</td>\n",
       "      <td>0.0</td>\n",
       "      <td>#144 in Adventure</td>\n",
       "      <td>2020-01-02</td>\n",
       "      <td>I was considering buying the full version. I w...</td>\n",
       "      <td>Survivalcraft 2 Day One, Igor Kalicinski, Game...</td>\n",
       "      <td>614</td>\n",
       "    </tr>\n",
       "    <tr>\n",
       "      <th>2</th>\n",
       "      <td>‎Samurai Slash - Run &amp; Slice</td>\n",
       "      <td>You are the last samurai. Cut off the bullets ...</td>\n",
       "      <td>https://is2-ssl.mzstatic.com/image/thumb/Purpl...</td>\n",
       "      <td>Fun Dash &amp; Cut game</td>\n",
       "      <td>5.0</td>\n",
       "      <td>0.0</td>\n",
       "      <td></td>\n",
       "      <td>NaT</td>\n",
       "      <td></td>\n",
       "      <td>Samurai Slash - Run &amp; Slice, Ketchapp, Games, ...</td>\n",
       "      <td>6</td>\n",
       "    </tr>\n",
       "    <tr>\n",
       "      <th>3</th>\n",
       "      <td>‎MilkChoco - Online FPS</td>\n",
       "      <td>Battle Royale Mode released!! : Survival mode ...</td>\n",
       "      <td>https://is3-ssl.mzstatic.com/image/thumb/Purpl...</td>\n",
       "      <td>Simple FPS online Game</td>\n",
       "      <td>4.4</td>\n",
       "      <td>0.0</td>\n",
       "      <td></td>\n",
       "      <td>2020-04-08</td>\n",
       "      <td>So, I just started playing this game and have ...</td>\n",
       "      <td>MilkChoco - Online FPS, GameParadiso, Games, A...</td>\n",
       "      <td>1300</td>\n",
       "    </tr>\n",
       "    <tr>\n",
       "      <th>4</th>\n",
       "      <td>‎Grand Theft Auto V: The Manual</td>\n",
       "      <td>GTAV: The Manual is the official manual app fo...</td>\n",
       "      <td>https://is2-ssl.mzstatic.com/image/thumb/Purpl...</td>\n",
       "      <td></td>\n",
       "      <td>3.9</td>\n",
       "      <td>0.0</td>\n",
       "      <td>#157 in Adventure</td>\n",
       "      <td>2020-02-14</td>\n",
       "      <td>This is the kind of application every great ga...</td>\n",
       "      <td>Grand Theft Auto V: The Manual, Rockstar Games...</td>\n",
       "      <td>2200</td>\n",
       "    </tr>\n",
       "  </tbody>\n",
       "</table>\n",
       "</div>"
      ],
      "text/plain": [
       "                              name  \\\n",
       "0                      ‎Join Clash   \n",
       "1         ‎Survivalcraft 2 Day One   \n",
       "2     ‎Samurai Slash - Run & Slice   \n",
       "3          ‎MilkChoco - Online FPS   \n",
       "4  ‎Grand Theft Auto V: The Manual   \n",
       "\n",
       "                                         description  \\\n",
       "0  Epic survival run! Racing adventure that will ...   \n",
       "1  You are marooned on the shores of an infinite ...   \n",
       "2  You are the last samurai. Cut off the bullets ...   \n",
       "3  Battle Royale Mode released!! : Survival mode ...   \n",
       "4  GTAV: The Manual is the official manual app fo...   \n",
       "\n",
       "                                                icon  \\\n",
       "0  https://is2-ssl.mzstatic.com/image/thumb/Purpl...   \n",
       "1  https://is1-ssl.mzstatic.com/image/thumb/Purpl...   \n",
       "2  https://is2-ssl.mzstatic.com/image/thumb/Purpl...   \n",
       "3  https://is3-ssl.mzstatic.com/image/thumb/Purpl...   \n",
       "4  https://is2-ssl.mzstatic.com/image/thumb/Purpl...   \n",
       "\n",
       "                          summary  rating  price               rank  \\\n",
       "0       Fill the City with Crowd!     4.6    0.0       #6 in Action   \n",
       "1  Advanced Survival and Creative     3.5    0.0  #144 in Adventure   \n",
       "2             Fun Dash & Cut game     5.0    0.0                      \n",
       "3          Simple FPS online Game     4.4    0.0                      \n",
       "4                                     3.9    0.0  #157 in Adventure   \n",
       "\n",
       "  date_latest                                            reviews  \\\n",
       "0  2020-10-01  Hopefully I have your attention! So first off,...   \n",
       "1  2020-01-02  I was considering buying the full version. I w...   \n",
       "2         NaT                                                      \n",
       "3  2020-04-08  So, I just started playing this game and have ...   \n",
       "4  2020-02-14  This is the kind of application every great ga...   \n",
       "\n",
       "                                            keywords  rating_count  \n",
       "0  Join Clash, SUPERSONIC STUDIOS LTD, Games, Cas...        200600  \n",
       "1  Survivalcraft 2 Day One, Igor Kalicinski, Game...           614  \n",
       "2  Samurai Slash - Run & Slice, Ketchapp, Games, ...             6  \n",
       "3  MilkChoco - Online FPS, GameParadiso, Games, A...          1300  \n",
       "4  Grand Theft Auto V: The Manual, Rockstar Games...          2200  "
      ]
     },
     "execution_count": 11,
     "metadata": {},
     "output_type": "execute_result"
    }
   ],
   "source": [
    "good_dates = []\n",
    "for date in app_data['date_latest']:\n",
    "    if not date == \"\":\n",
    "        try:\n",
    "            good_dates.append(pd.to_datetime(date, format = \"%B %d, %Y\"))\n",
    "        except: #Weird / inconsistent format\n",
    "            good_dates.append(\"\") \n",
    "    else:\n",
    "        good_dates.append(\"\")\n",
    "app_data.loc[:, 'date_latest'] = good_dates\n",
    "app_data.head()"
   ]
  },
  {
   "cell_type": "markdown",
   "metadata": {},
   "source": [
    "For the rank column, the category of the rank is not too significant in the case of this project, so we will only consider the numeric rank."
   ]
  },
  {
   "cell_type": "code",
   "execution_count": 12,
   "metadata": {},
   "outputs": [
    {
     "data": {
      "text/html": [
       "<div>\n",
       "<style scoped>\n",
       "    .dataframe tbody tr th:only-of-type {\n",
       "        vertical-align: middle;\n",
       "    }\n",
       "\n",
       "    .dataframe tbody tr th {\n",
       "        vertical-align: top;\n",
       "    }\n",
       "\n",
       "    .dataframe thead th {\n",
       "        text-align: right;\n",
       "    }\n",
       "</style>\n",
       "<table border=\"1\" class=\"dataframe\">\n",
       "  <thead>\n",
       "    <tr style=\"text-align: right;\">\n",
       "      <th></th>\n",
       "      <th>name</th>\n",
       "      <th>description</th>\n",
       "      <th>icon</th>\n",
       "      <th>summary</th>\n",
       "      <th>rating</th>\n",
       "      <th>price</th>\n",
       "      <th>rank</th>\n",
       "      <th>date_latest</th>\n",
       "      <th>reviews</th>\n",
       "      <th>keywords</th>\n",
       "      <th>rating_count</th>\n",
       "    </tr>\n",
       "  </thead>\n",
       "  <tbody>\n",
       "    <tr>\n",
       "      <th>0</th>\n",
       "      <td>‎Join Clash</td>\n",
       "      <td>Epic survival run! Racing adventure that will ...</td>\n",
       "      <td>https://is2-ssl.mzstatic.com/image/thumb/Purpl...</td>\n",
       "      <td>Fill the City with Crowd!</td>\n",
       "      <td>4.6</td>\n",
       "      <td>0.0</td>\n",
       "      <td>6</td>\n",
       "      <td>2020-10-01</td>\n",
       "      <td>Hopefully I have your attention! So first off,...</td>\n",
       "      <td>Join Clash, SUPERSONIC STUDIOS LTD, Games, Cas...</td>\n",
       "      <td>200600</td>\n",
       "    </tr>\n",
       "    <tr>\n",
       "      <th>1</th>\n",
       "      <td>‎Survivalcraft 2 Day One</td>\n",
       "      <td>You are marooned on the shores of an infinite ...</td>\n",
       "      <td>https://is1-ssl.mzstatic.com/image/thumb/Purpl...</td>\n",
       "      <td>Advanced Survival and Creative</td>\n",
       "      <td>3.5</td>\n",
       "      <td>0.0</td>\n",
       "      <td>144</td>\n",
       "      <td>2020-01-02</td>\n",
       "      <td>I was considering buying the full version. I w...</td>\n",
       "      <td>Survivalcraft 2 Day One, Igor Kalicinski, Game...</td>\n",
       "      <td>614</td>\n",
       "    </tr>\n",
       "    <tr>\n",
       "      <th>2</th>\n",
       "      <td>‎Samurai Slash - Run &amp; Slice</td>\n",
       "      <td>You are the last samurai. Cut off the bullets ...</td>\n",
       "      <td>https://is2-ssl.mzstatic.com/image/thumb/Purpl...</td>\n",
       "      <td>Fun Dash &amp; Cut game</td>\n",
       "      <td>5.0</td>\n",
       "      <td>0.0</td>\n",
       "      <td></td>\n",
       "      <td>NaT</td>\n",
       "      <td></td>\n",
       "      <td>Samurai Slash - Run &amp; Slice, Ketchapp, Games, ...</td>\n",
       "      <td>6</td>\n",
       "    </tr>\n",
       "    <tr>\n",
       "      <th>3</th>\n",
       "      <td>‎MilkChoco - Online FPS</td>\n",
       "      <td>Battle Royale Mode released!! : Survival mode ...</td>\n",
       "      <td>https://is3-ssl.mzstatic.com/image/thumb/Purpl...</td>\n",
       "      <td>Simple FPS online Game</td>\n",
       "      <td>4.4</td>\n",
       "      <td>0.0</td>\n",
       "      <td></td>\n",
       "      <td>2020-04-08</td>\n",
       "      <td>So, I just started playing this game and have ...</td>\n",
       "      <td>MilkChoco - Online FPS, GameParadiso, Games, A...</td>\n",
       "      <td>1300</td>\n",
       "    </tr>\n",
       "    <tr>\n",
       "      <th>4</th>\n",
       "      <td>‎Grand Theft Auto V: The Manual</td>\n",
       "      <td>GTAV: The Manual is the official manual app fo...</td>\n",
       "      <td>https://is2-ssl.mzstatic.com/image/thumb/Purpl...</td>\n",
       "      <td></td>\n",
       "      <td>3.9</td>\n",
       "      <td>0.0</td>\n",
       "      <td>157</td>\n",
       "      <td>2020-02-14</td>\n",
       "      <td>This is the kind of application every great ga...</td>\n",
       "      <td>Grand Theft Auto V: The Manual, Rockstar Games...</td>\n",
       "      <td>2200</td>\n",
       "    </tr>\n",
       "  </tbody>\n",
       "</table>\n",
       "</div>"
      ],
      "text/plain": [
       "                              name  \\\n",
       "0                      ‎Join Clash   \n",
       "1         ‎Survivalcraft 2 Day One   \n",
       "2     ‎Samurai Slash - Run & Slice   \n",
       "3          ‎MilkChoco - Online FPS   \n",
       "4  ‎Grand Theft Auto V: The Manual   \n",
       "\n",
       "                                         description  \\\n",
       "0  Epic survival run! Racing adventure that will ...   \n",
       "1  You are marooned on the shores of an infinite ...   \n",
       "2  You are the last samurai. Cut off the bullets ...   \n",
       "3  Battle Royale Mode released!! : Survival mode ...   \n",
       "4  GTAV: The Manual is the official manual app fo...   \n",
       "\n",
       "                                                icon  \\\n",
       "0  https://is2-ssl.mzstatic.com/image/thumb/Purpl...   \n",
       "1  https://is1-ssl.mzstatic.com/image/thumb/Purpl...   \n",
       "2  https://is2-ssl.mzstatic.com/image/thumb/Purpl...   \n",
       "3  https://is3-ssl.mzstatic.com/image/thumb/Purpl...   \n",
       "4  https://is2-ssl.mzstatic.com/image/thumb/Purpl...   \n",
       "\n",
       "                          summary  rating  price rank date_latest  \\\n",
       "0       Fill the City with Crowd!     4.6    0.0    6  2020-10-01   \n",
       "1  Advanced Survival and Creative     3.5    0.0  144  2020-01-02   \n",
       "2             Fun Dash & Cut game     5.0    0.0              NaT   \n",
       "3          Simple FPS online Game     4.4    0.0       2020-04-08   \n",
       "4                                     3.9    0.0  157  2020-02-14   \n",
       "\n",
       "                                             reviews  \\\n",
       "0  Hopefully I have your attention! So first off,...   \n",
       "1  I was considering buying the full version. I w...   \n",
       "2                                                      \n",
       "3  So, I just started playing this game and have ...   \n",
       "4  This is the kind of application every great ga...   \n",
       "\n",
       "                                            keywords  rating_count  \n",
       "0  Join Clash, SUPERSONIC STUDIOS LTD, Games, Cas...        200600  \n",
       "1  Survivalcraft 2 Day One, Igor Kalicinski, Game...           614  \n",
       "2  Samurai Slash - Run & Slice, Ketchapp, Games, ...             6  \n",
       "3  MilkChoco - Online FPS, GameParadiso, Games, A...          1300  \n",
       "4  Grand Theft Auto V: The Manual, Rockstar Games...          2200  "
      ]
     },
     "execution_count": 12,
     "metadata": {},
     "output_type": "execute_result"
    }
   ],
   "source": [
    "rank_new= []\n",
    "for r in app_data[\"rank\"]:\n",
    "    if r==\"\":\n",
    "        rank_new.append(\"\")\n",
    "    else:\n",
    "        r_lst = r.split(\" \")\n",
    "        digits = r_lst[0]\n",
    "        rank_new.append(int(digits[1:]))\n",
    "app_data.loc[:, 'rank'] = rank_new\n",
    "app_data.head()"
   ]
  },
  {
   "cell_type": "markdown",
   "metadata": {},
   "source": [
    "As of now, everything is looking good! Next, I will make some \"helper\" columns that may be useful in later analysis: description and summary length for each app, as well as a \"volume\" measure (rating * rating count) <br>\n",
    "\n",
    "Also, save final cleaned dataset here as well."
   ]
  },
  {
   "cell_type": "code",
   "execution_count": 13,
   "metadata": {},
   "outputs": [
    {
     "data": {
      "text/html": [
       "<div>\n",
       "<style scoped>\n",
       "    .dataframe tbody tr th:only-of-type {\n",
       "        vertical-align: middle;\n",
       "    }\n",
       "\n",
       "    .dataframe tbody tr th {\n",
       "        vertical-align: top;\n",
       "    }\n",
       "\n",
       "    .dataframe thead th {\n",
       "        text-align: right;\n",
       "    }\n",
       "</style>\n",
       "<table border=\"1\" class=\"dataframe\">\n",
       "  <thead>\n",
       "    <tr style=\"text-align: right;\">\n",
       "      <th></th>\n",
       "      <th>name</th>\n",
       "      <th>description</th>\n",
       "      <th>icon</th>\n",
       "      <th>summary</th>\n",
       "      <th>rating</th>\n",
       "      <th>price</th>\n",
       "      <th>rank</th>\n",
       "      <th>date_latest</th>\n",
       "      <th>reviews</th>\n",
       "      <th>keywords</th>\n",
       "      <th>rating_count</th>\n",
       "      <th>description_length</th>\n",
       "      <th>summary_length</th>\n",
       "      <th>volume</th>\n",
       "    </tr>\n",
       "  </thead>\n",
       "  <tbody>\n",
       "    <tr>\n",
       "      <th>0</th>\n",
       "      <td>‎Join Clash</td>\n",
       "      <td>Epic survival run! Racing adventure that will ...</td>\n",
       "      <td>https://is2-ssl.mzstatic.com/image/thumb/Purpl...</td>\n",
       "      <td>Fill the City with Crowd!</td>\n",
       "      <td>4.6</td>\n",
       "      <td>0.0</td>\n",
       "      <td>6</td>\n",
       "      <td>2020-10-01</td>\n",
       "      <td>Hopefully I have your attention! So first off,...</td>\n",
       "      <td>Join Clash, SUPERSONIC STUDIOS LTD, Games, Cas...</td>\n",
       "      <td>200600</td>\n",
       "      <td>1589</td>\n",
       "      <td>25</td>\n",
       "      <td>922760.0</td>\n",
       "    </tr>\n",
       "    <tr>\n",
       "      <th>1</th>\n",
       "      <td>‎Survivalcraft 2 Day One</td>\n",
       "      <td>You are marooned on the shores of an infinite ...</td>\n",
       "      <td>https://is1-ssl.mzstatic.com/image/thumb/Purpl...</td>\n",
       "      <td>Advanced Survival and Creative</td>\n",
       "      <td>3.5</td>\n",
       "      <td>0.0</td>\n",
       "      <td>144</td>\n",
       "      <td>2020-01-02</td>\n",
       "      <td>I was considering buying the full version. I w...</td>\n",
       "      <td>Survivalcraft 2 Day One, Igor Kalicinski, Game...</td>\n",
       "      <td>614</td>\n",
       "      <td>1343</td>\n",
       "      <td>30</td>\n",
       "      <td>2149.0</td>\n",
       "    </tr>\n",
       "    <tr>\n",
       "      <th>2</th>\n",
       "      <td>‎Samurai Slash - Run &amp; Slice</td>\n",
       "      <td>You are the last samurai. Cut off the bullets ...</td>\n",
       "      <td>https://is2-ssl.mzstatic.com/image/thumb/Purpl...</td>\n",
       "      <td>Fun Dash &amp; Cut game</td>\n",
       "      <td>5.0</td>\n",
       "      <td>0.0</td>\n",
       "      <td></td>\n",
       "      <td>NaT</td>\n",
       "      <td></td>\n",
       "      <td>Samurai Slash - Run &amp; Slice, Ketchapp, Games, ...</td>\n",
       "      <td>6</td>\n",
       "      <td>361</td>\n",
       "      <td>19</td>\n",
       "      <td>30.0</td>\n",
       "    </tr>\n",
       "    <tr>\n",
       "      <th>3</th>\n",
       "      <td>‎MilkChoco - Online FPS</td>\n",
       "      <td>Battle Royale Mode released!! : Survival mode ...</td>\n",
       "      <td>https://is3-ssl.mzstatic.com/image/thumb/Purpl...</td>\n",
       "      <td>Simple FPS online Game</td>\n",
       "      <td>4.4</td>\n",
       "      <td>0.0</td>\n",
       "      <td></td>\n",
       "      <td>2020-04-08</td>\n",
       "      <td>So, I just started playing this game and have ...</td>\n",
       "      <td>MilkChoco - Online FPS, GameParadiso, Games, A...</td>\n",
       "      <td>1300</td>\n",
       "      <td>1353</td>\n",
       "      <td>22</td>\n",
       "      <td>5720.0</td>\n",
       "    </tr>\n",
       "    <tr>\n",
       "      <th>4</th>\n",
       "      <td>‎Grand Theft Auto V: The Manual</td>\n",
       "      <td>GTAV: The Manual is the official manual app fo...</td>\n",
       "      <td>https://is2-ssl.mzstatic.com/image/thumb/Purpl...</td>\n",
       "      <td></td>\n",
       "      <td>3.9</td>\n",
       "      <td>0.0</td>\n",
       "      <td>157</td>\n",
       "      <td>2020-02-14</td>\n",
       "      <td>This is the kind of application every great ga...</td>\n",
       "      <td>Grand Theft Auto V: The Manual, Rockstar Games...</td>\n",
       "      <td>2200</td>\n",
       "      <td>2148</td>\n",
       "      <td>0</td>\n",
       "      <td>8580.0</td>\n",
       "    </tr>\n",
       "  </tbody>\n",
       "</table>\n",
       "</div>"
      ],
      "text/plain": [
       "                              name  \\\n",
       "0                      ‎Join Clash   \n",
       "1         ‎Survivalcraft 2 Day One   \n",
       "2     ‎Samurai Slash - Run & Slice   \n",
       "3          ‎MilkChoco - Online FPS   \n",
       "4  ‎Grand Theft Auto V: The Manual   \n",
       "\n",
       "                                         description  \\\n",
       "0  Epic survival run! Racing adventure that will ...   \n",
       "1  You are marooned on the shores of an infinite ...   \n",
       "2  You are the last samurai. Cut off the bullets ...   \n",
       "3  Battle Royale Mode released!! : Survival mode ...   \n",
       "4  GTAV: The Manual is the official manual app fo...   \n",
       "\n",
       "                                                icon  \\\n",
       "0  https://is2-ssl.mzstatic.com/image/thumb/Purpl...   \n",
       "1  https://is1-ssl.mzstatic.com/image/thumb/Purpl...   \n",
       "2  https://is2-ssl.mzstatic.com/image/thumb/Purpl...   \n",
       "3  https://is3-ssl.mzstatic.com/image/thumb/Purpl...   \n",
       "4  https://is2-ssl.mzstatic.com/image/thumb/Purpl...   \n",
       "\n",
       "                          summary  rating  price rank date_latest  \\\n",
       "0       Fill the City with Crowd!     4.6    0.0    6  2020-10-01   \n",
       "1  Advanced Survival and Creative     3.5    0.0  144  2020-01-02   \n",
       "2             Fun Dash & Cut game     5.0    0.0              NaT   \n",
       "3          Simple FPS online Game     4.4    0.0       2020-04-08   \n",
       "4                                     3.9    0.0  157  2020-02-14   \n",
       "\n",
       "                                             reviews  \\\n",
       "0  Hopefully I have your attention! So first off,...   \n",
       "1  I was considering buying the full version. I w...   \n",
       "2                                                      \n",
       "3  So, I just started playing this game and have ...   \n",
       "4  This is the kind of application every great ga...   \n",
       "\n",
       "                                            keywords  rating_count  \\\n",
       "0  Join Clash, SUPERSONIC STUDIOS LTD, Games, Cas...        200600   \n",
       "1  Survivalcraft 2 Day One, Igor Kalicinski, Game...           614   \n",
       "2  Samurai Slash - Run & Slice, Ketchapp, Games, ...             6   \n",
       "3  MilkChoco - Online FPS, GameParadiso, Games, A...          1300   \n",
       "4  Grand Theft Auto V: The Manual, Rockstar Games...          2200   \n",
       "\n",
       "   description_length  summary_length    volume  \n",
       "0                1589              25  922760.0  \n",
       "1                1343              30    2149.0  \n",
       "2                 361              19      30.0  \n",
       "3                1353              22    5720.0  \n",
       "4                2148               0    8580.0  "
      ]
     },
     "execution_count": 13,
     "metadata": {},
     "output_type": "execute_result"
    }
   ],
   "source": [
    "description_length = [len(d) for d in app_data[\"description\"]]\n",
    "summary_length = [len(s) for s in app_data[\"summary\"]]\n",
    "volume = []\n",
    "count = 0\n",
    "for rating in app_data[\"rating\"]:\n",
    "    volume.append(round(rating * app_data[\"rating_count\"][count], 2))\n",
    "    count += 1\n",
    "app_data[\"description_length\"] = description_length\n",
    "app_data[\"summary_length\"] = summary_length\n",
    "app_data[\"volume\"] = volume\n",
    "app_data.to_csv(\"app_data_final.csv\", index=False)\n",
    "app_data.head()"
   ]
  },
  {
   "cell_type": "markdown",
   "metadata": {},
   "source": [
    "The full dataset is cleaned and ready.\n",
    "\n",
    "**Data Description**: <br>\n",
    "The *observations* (rows) each represent a single application that appeared on Apple's \"Popular Apps\" page for one of the four categories of games: action, adventure, role-playing, simulation.<br>\n",
    "\n",
    "The *attributes* (columns), as described initially, going left to right, are as follows:<br>\n",
    "        **name**: title of application<br>\n",
    "        **description**: creator's description of application<br>\n",
    "        **icon**: link to public image icon of application<br>\n",
    "        **summary**: brief summary / catch phrase of application<br>\n",
    "        **rating**: average user rating (out of 5.0)<br>\n",
    "        **price**: price of application. 0.0 indicates a free app<br>\n",
    "        **rank**: number of app's potential ranking for any given category<br>\n",
    "        **date_latest**: either release date, or date of latest update<br>\n",
    "        **reviews**: compilation of multiple randomly selected reviews for the application<br>\n",
    "        **keywords**: keywords for App Store search engine optimization, chosen by developer<br>\n",
    "        **rating_count**: number of users who rated the application<br>\n",
    "        **description_length**: length of the description (in characters)<br>\n",
    "        **summary_length**: length of the summary (in characters)<br>\n",
    "        **volume**: average ratings * total number of ratings. More of a heuristic measure / derived calculation<br>\n",
    "        <br>\n",
    "Columns added for final analysis:<br>\n",
    "    **traction**: volume of app / days since last release<br>\n",
    "    **icon (numeric)**: given a score of 0-100 based on the color scheme (discussed in-depth later) <br>\n",
    "    **description_length**: length of description (characters) <br>\n",
    "    **summary_length**: length of summary (characters)<br>\n",
    "    **keywords (numeric)**: heuristic score for keywords of an app (discussed in-depth later)<br>\n",
    "    **classify**: 1 if the app is \"popular\", 0 if not (collection process documented later for the un-popular apps)<br><br>\n",
    "\n",
    "This dataset was created by Erik Ossner (myself), in order to further explore potential relationships in variables of Apple's \"Popular Apps\", to give a better insight into how Apple's popularity classification works. The data used in the dataset was funded by Apple, and independently created by individual and teams of app developers. As such, this data is not owned by me in any way, and the data will be carefully and respectfully utilized in order to preserve as much of the creators' original efforts and work as possible. Much web-scraping and preprocessing was done in order to get this data into this final format (see all steps above). People are not directly involved in this data collection, as we are analyzing products created by people. The CSV compiled data can be found here: https://github.com/3r1k021/info2950 <br>\n",
    "   \n",
    "**Limitations**: Some limitations of this may be the lack of SEO-based (search engine optimization-based) data. We pool many of the explicit fields given involving an app--in other words, fields that as easy for any outsider to go in and view--and while these will likely yield some informative trends, it is likely that this dataset can be strengthened even further by gathering more meta-data for each application (key-words, etc). As of now, the data gathered may be able to show us trends, but may lack depth in relation to the actual research question of understanding Apple's classification methods of a \"popular app\". Similarly, some of the fields (summary, description) have been given derived columns to include information such as character count, but more of such columns may be needed to reveal some of the deeper trends we are looking for. For example, the image link itself is currently not going to yield anything interesting for analysis. But, by potentially passing it into an API to extract key colors, it may be a more comparible variable. If these ideas were not considered, it may end up that this project leads to either surface level, or misleading results of how to optimize apps for future users of the project. To help resolve these issues, such extensions to existing attributes, mentioned above, will be considered and executed in coming project sessions.\n",
    "      "
   ]
  },
  {
   "cell_type": "markdown",
   "metadata": {},
   "source": [
    "**Initial Exploratory Analysis of Variables**: In this section, a brief exploration of some variables will be done, including plots and graphs "
   ]
  },
  {
   "cell_type": "code",
   "execution_count": 14,
   "metadata": {},
   "outputs": [
    {
     "name": "stdout",
     "output_type": "stream",
     "text": [
      "The mean app score is 4.02\n",
      "The app score standard deviation is 1.02\n"
     ]
    },
    {
     "data": {
      "text/plain": [
       "Text(0, 0.5, 'Count')"
      ]
     },
     "execution_count": 14,
     "metadata": {},
     "output_type": "execute_result"
    },
    {
     "data": {
      "image/png": "[encoded data removed]",
      "text/plain": [
       "<Figure size 432x288 with 1 Axes>"
      ]
     },
     "metadata": {
      "needs_background": "light"
     },
     "output_type": "display_data"
    }
   ],
   "source": [
    "import matplotlib.pyplot as plt\n",
    "import numpy\n",
    "print(\"The mean app score is \"+ str(round(np.mean(app_data[\"rating\"]), 2)))\n",
    "print(\"The app score standard deviation is \"+ str(round(np.std(app_data[\"rating\"]), 2)))\n",
    "plt.hist(app_data[app_data[\"rating\"] > 0][\"rating\"]) #discard any apps with no ratings\n",
    "plt.xlabel(\"Rating\")\n",
    "plt.ylabel(\"Count\")"
   ]
  },
  {
   "cell_type": "markdown",
   "metadata": {},
   "source": [
    "**Observations**: Significantly skewed to the left (expected). A majority of the \"popular apps\" section contains 4.5 and 5-star apps. The mean is 4.01 with a standard deviation of 1.04. Still worth mentioning in final analysis, and doing further analysis on."
   ]
  },
  {
   "cell_type": "code",
   "execution_count": 15,
   "metadata": {},
   "outputs": [
    {
     "data": {
      "text/plain": [
       "Text(0, 0.5, 'Count')"
      ]
     },
     "execution_count": 15,
     "metadata": {},
     "output_type": "execute_result"
    },
    {
     "data": {
      "image/png": "[encoded data removed]",
      "text/plain": [
       "<Figure size 432x288 with 1 Axes>"
      ]
     },
     "metadata": {
      "needs_background": "light"
     },
     "output_type": "display_data"
    }
   ],
   "source": [
    "plt.hist(app_data[app_data[\"price\"] < 10][\"price\"]) #discard any apps with very high prices (for easier visualization)\n",
    "plt.xlabel(\"Price ($)\")\n",
    "plt.ylabel(\"Count\")"
   ]
  },
  {
   "cell_type": "markdown",
   "metadata": {},
   "source": [
    "**Observations**: An overwhelming majority of apps are free. May not be too interesting to analyze further, but certainly worth noting in terms of the price trend."
   ]
  },
  {
   "cell_type": "code",
   "execution_count": 16,
   "metadata": {},
   "outputs": [
    {
     "data": {
      "text/plain": [
       "Text(0, 0.5, 'Count')"
      ]
     },
     "execution_count": 16,
     "metadata": {},
     "output_type": "execute_result"
    },
    {
     "data": {
      "image/png": "[encoded data removed]",
      "text/plain": [
       "<Figure size 432x288 with 1 Axes>"
      ]
     },
     "metadata": {
      "needs_background": "light"
     },
     "output_type": "display_data"
    }
   ],
   "source": [
    "plt.hist(app_data[\"volume\"]) #discard any apps with no ratings\n",
    "plt.xlabel(\"Volume (ratings * rating number)\")\n",
    "plt.ylabel(\"Count\")"
   ]
  },
  {
   "cell_type": "markdown",
   "metadata": {},
   "source": [
    "The histogram of the volumne tells us nothing. Instead, we can \"zoom in\" on the smaller values:"
   ]
  },
  {
   "cell_type": "code",
   "execution_count": 17,
   "metadata": {},
   "outputs": [
    {
     "data": {
      "text/plain": [
       "Text(0, 0.5, 'Count')"
      ]
     },
     "execution_count": 17,
     "metadata": {},
     "output_type": "execute_result"
    },
    {
     "data": {
      "image/png": "[encoded data removed]",
      "text/plain": [
       "<Figure size 432x288 with 1 Axes>"
      ]
     },
     "metadata": {
      "needs_background": "light"
     },
     "output_type": "display_data"
    }
   ],
   "source": [
    "plt.hist(app_data[app_data[\"volume\"] < 1000][\"volume\"]) #discard any apps with no ratings\n",
    "plt.xlabel(\"Rating\")\n",
    "plt.ylabel(\"Count\")"
   ]
  },
  {
   "cell_type": "markdown",
   "metadata": {},
   "source": [
    "**Observations**: Zooming into this data significantly (to only include volumnes less than 1000), it can still be seen that a vast majority of apps do not actually have high volumnes (for rating * number of ratings). As such, we will next examine the actual number of ratings on each app"
   ]
  },
  {
   "cell_type": "code",
   "execution_count": 18,
   "metadata": {},
   "outputs": [
    {
     "data": {
      "text/plain": [
       "Text(0, 0.5, 'Count')"
      ]
     },
     "execution_count": 18,
     "metadata": {},
     "output_type": "execute_result"
    },
    {
     "data": {
      "image/png": "[encoded data removed]",
      "text/plain": [
       "<Figure size 432x288 with 1 Axes>"
      ]
     },
     "metadata": {
      "needs_background": "light"
     },
     "output_type": "display_data"
    }
   ],
   "source": [
    "plt.hist(app_data[app_data[\"rating_count\"] < 100][\"rating_count\"]) #discard any apps with no ratings\n",
    "plt.xlabel(\"Rating Count\")\n",
    "plt.ylabel(\"Count\")"
   ]
  },
  {
   "cell_type": "markdown",
   "metadata": {},
   "source": [
    "**Observations**: Interestingly, Apple does not seem to focus on selecting apps with particularly high volumes of traffic. Instead, most have less than 20 reviews. Possibly app's with a higher \"traction rate\" (high volume with a recent release date) are given priority? This will be explored next"
   ]
  },
  {
   "cell_type": "code",
   "execution_count": 19,
   "metadata": {},
   "outputs": [
    {
     "data": {
      "text/plain": [
       "Text(0.5, 1.0, 'Latest Release Date vs Volume')"
      ]
     },
     "execution_count": 19,
     "metadata": {},
     "output_type": "execute_result"
    },
    {
     "data": {
      "image/png": "[encoded data removed]",
      "text/plain": [
       "<Figure size 432x288 with 1 Axes>"
      ]
     },
     "metadata": {
      "needs_background": "light"
     },
     "output_type": "display_data"
    }
   ],
   "source": [
    "recent_dates = app_data[app_data[\"date_latest\"] >= np.datetime64('2020-01-01')][\"date_latest\"]\n",
    "recent_volumes = app_data[app_data[\"date_latest\"] >= np.datetime64('2020-01-01')][\"volume\"]\n",
    "plt.scatter(recent_dates, recent_volumes, alpha = 0.3)\n",
    "plt.xlabel(\"Latest Release Date\")\n",
    "plt.ylabel(\"Volume (ratings * number of ratings)\")\n",
    "plt.title(\"Latest Release Date vs Volume\")"
   ]
  },
  {
   "cell_type": "markdown",
   "metadata": {},
   "source": [
    "**Observations**: Indeed, as proposed, it looks like there is a congregation of apps with (very) recent release dates, and high volume. We will continue to subset this data for observation"
   ]
  },
  {
   "cell_type": "code",
   "execution_count": 20,
   "metadata": {},
   "outputs": [
    {
     "data": {
      "text/plain": [
       "Text(0.5, 1.0, 'Latest Release Date vs Volume')"
      ]
     },
     "execution_count": 20,
     "metadata": {},
     "output_type": "execute_result"
    },
    {
     "data": {
      "image/png": "[encoded data removed]",
      "text/plain": [
       "<Figure size 432x288 with 1 Axes>"
      ]
     },
     "metadata": {
      "needs_background": "light"
     },
     "output_type": "display_data"
    }
   ],
   "source": [
    "recent_dates = app_data[app_data[\"date_latest\"] >= np.datetime64('2020-08-01')][\"date_latest\"]\n",
    "recent_volumes = app_data[app_data[\"date_latest\"] >= np.datetime64('2020-08-01')][\"volume\"]\n",
    "plt.scatter(recent_dates, recent_volumes, alpha = 0.3)\n",
    "plt.xlabel(\"Latest Release Date\")\n",
    "plt.ylabel(\"Volume (ratings * number of ratings)\")\n",
    "plt.title(\"Latest Release Date vs Volume\")"
   ]
  },
  {
   "cell_type": "markdown",
   "metadata": {},
   "source": [
    "**Observations**: It does seem, by the looks of it, that recently released / updated apps have a much higher probability of being classified as \"popular\".\n",
    "<br><br>\n",
    "As such, we will define a new category of analysis that encompasses both release date and volume. We will define it as *traction*: <br>\n",
    "<br>\n",
    "Traction = (Volume of App) / (Days since last release)\n",
    "<br><br>\n",
    "Given this heuristic formula, higher traction should expect higher probabilities of being classified as \"popular\""
   ]
  },
  {
   "cell_type": "code",
   "execution_count": 21,
   "metadata": {},
   "outputs": [
    {
     "data": {
      "text/plain": [
       "Text(0, 0.5, 'Count')"
      ]
     },
     "execution_count": 21,
     "metadata": {},
     "output_type": "execute_result"
    },
    {
     "data": {
      "image/png": "[encoded data removed]",
      "text/plain": [
       "<Figure size 432x288 with 1 Axes>"
      ]
     },
     "metadata": {
      "needs_background": "light"
     },
     "output_type": "display_data"
    }
   ],
   "source": [
    "traction = []\n",
    "count = 0\n",
    "today = np.datetime64('today') \n",
    "for date in app_data[\"date_latest\"]:\n",
    "    if pd.isnull(date):\n",
    "        traction.append(0)\n",
    "    else:\n",
    "        total_diff = today - date\n",
    "        seconds = total_diff.total_seconds()\n",
    "        days = seconds / 86400\n",
    "        traction.append(round(app_data[\"volume\"][count] / days , 2))\n",
    "    count += 1\n",
    "app_data[\"traction\"] = traction\n",
    "plt.hist((app_data[(app_data[\"date_latest\"] >= np.datetime64('2020-08-01')) & (app_data[\"traction\"] < 500)][\"traction\"])) #discard any apps with no ratings\n",
    "plt.xlabel(\"Traction (Volume / Days Since Last Release)\")\n",
    "plt.ylabel(\"Count\")"
   ]
  },
  {
   "cell_type": "markdown",
   "metadata": {},
   "source": [
    "**Observations**: Unfortunataly, it does not seem that the \"traction\" measure provides any more insight than the rating vs count histogram (although it condensed these variables all into a single measure). Instead, we will attempt to simply provide some statistics about the dataset involving release dates"
   ]
  },
  {
   "cell_type": "code",
   "execution_count": 22,
   "metadata": {},
   "outputs": [
    {
     "name": "stdout",
     "output_type": "stream",
     "text": [
      "16.73% of the 'popular apps' have been updated or published within 10 days\n",
      "20.05% of the 'popular apps' have been updated or published within one month\n",
      "25.46% of the 'popular apps' have been updated or published within 3 months\n"
     ]
    }
   ],
   "source": [
    "total_apps = len(app_data)\n",
    "new_apps = app_data[app_data[\"date_latest\"] >= np.datetime64('2020-09-30')]\n",
    "new_count = len(new_apps)\n",
    "days_10 = new_count / total_apps\n",
    "new_apps = app_data[app_data[\"date_latest\"] >= np.datetime64('2020-09-10')]\n",
    "new_count = len(new_apps)\n",
    "days_30 = new_count / total_apps\n",
    "new_apps = app_data[app_data[\"date_latest\"] >= np.datetime64('2020-07-10')]\n",
    "new_count = len(new_apps)\n",
    "mon_3 = new_count / total_apps\n",
    "\n",
    "print(str(round(days_10 * 100, 2)) + \"% of the 'popular apps' have been updated or published within 10 days\")\n",
    "print(str(round(days_30 * 100, 2)) + \"% of the 'popular apps' have been updated or published within one month\")\n",
    "print(str(round(mon_3 * 100, 2)) + \"% of the 'popular apps' have been updated or published within 3 months\")\n",
    "app_data.to_csv(\"app_data_final_real.csv\", index=False)"
   ]
  },
  {
   "cell_type": "markdown",
   "metadata": {},
   "source": [
    "**Observations**: Excluding any information regarding the volume or ratings of the app, these proportions seem to provide a very interesting insight into the data, confirming the proposition that a large chunk of the apps have been updated fairly recently (within 3 months). This will definitely provide an area for further analysis."
   ]
  },
  {
   "cell_type": "markdown",
   "metadata": {},
   "source": [
    "This concludes the initial exploratory phase. Based on the initial analysis of data, the research question stands, and revision is not needed at this moment, although the next steps will include delving even further into certain aspects and derivations of the data (as described in the \"Limitations\" section, in order to draw more insightful relationships. \n"
   ]
  },
  {
   "cell_type": "markdown",
   "metadata": {},
   "source": [
    "For the next stage of this project, we aim to prefer the analysis phase of a multivariate logistical regression (in hopes of being able to classify whether or not an app is popular or not, given other attributes about it). Specifically:<br><br>\n",
    "We have gathered data from “Popular Apps” thus far. So, for the testing phase, we will need to web scrape more data from the general app population. This will be done by likely selecting 10 random applications from every letter page (A-Z) for each of our 4 categories of apps (adventure, action, role-playing, simulation). This will yield 26x10x4 = 1040 apps to train against (very close to the number of popular apps gathered). After gathering and compiling this data, the datasets will be randomly merged with a new classify column (explained above). The popular apps will have a classification of 1. The regular apps will have a classification of 0. We will perform both logistic regression, train/test splits, as well as permutation testing in order to see how well many of our gathered factors (rating count, overall rating, volume, traction, etc…) can be used to determine popularity of any given app. <br><br>\n",
    "First, we web gather the \"normally ranked\" apps (using the same web-scraping that was done for the popular apps) and we load and clean the dataframe below."
   ]
  },
  {
   "cell_type": "code",
   "execution_count": 4,
   "metadata": {},
   "outputs": [
    {
     "data": {
      "text/html": [
       "<div>\n",
       "<style scoped>\n",
       "    .dataframe tbody tr th:only-of-type {\n",
       "        vertical-align: middle;\n",
       "    }\n",
       "\n",
       "    .dataframe tbody tr th {\n",
       "        vertical-align: top;\n",
       "    }\n",
       "\n",
       "    .dataframe thead th {\n",
       "        text-align: right;\n",
       "    }\n",
       "</style>\n",
       "<table border=\"1\" class=\"dataframe\">\n",
       "  <thead>\n",
       "    <tr style=\"text-align: right;\">\n",
       "      <th></th>\n",
       "      <th>name</th>\n",
       "      <th>description</th>\n",
       "      <th>icon</th>\n",
       "      <th>summary</th>\n",
       "      <th>rating</th>\n",
       "      <th>price</th>\n",
       "      <th>rank</th>\n",
       "      <th>date_latest</th>\n",
       "      <th>reviews</th>\n",
       "      <th>keywords</th>\n",
       "      <th>rating_count</th>\n",
       "      <th>description_length</th>\n",
       "      <th>summary_length</th>\n",
       "      <th>volume</th>\n",
       "      <th>traction</th>\n",
       "    </tr>\n",
       "  </thead>\n",
       "  <tbody>\n",
       "    <tr>\n",
       "      <th>0</th>\n",
       "      <td>‎Join Clash</td>\n",
       "      <td>Epic survival run! Racing adventure that will ...</td>\n",
       "      <td>https://is2-ssl.mzstatic.com/image/thumb/Purpl...</td>\n",
       "      <td>Fill the City with Crowd!</td>\n",
       "      <td>4.6</td>\n",
       "      <td>0.0</td>\n",
       "      <td>6</td>\n",
       "      <td>2020-10-01</td>\n",
       "      <td>Hopefully I have your attention! So first off,...</td>\n",
       "      <td>Join Clash, SUPERSONIC STUDIOS LTD, Games, Cas...</td>\n",
       "      <td>200600</td>\n",
       "      <td>1589</td>\n",
       "      <td>25</td>\n",
       "      <td>922760.0</td>\n",
       "      <td>16777.45</td>\n",
       "    </tr>\n",
       "    <tr>\n",
       "      <th>1</th>\n",
       "      <td>‎Survivalcraft 2 Day One</td>\n",
       "      <td>You are marooned on the shores of an infinite ...</td>\n",
       "      <td>https://is1-ssl.mzstatic.com/image/thumb/Purpl...</td>\n",
       "      <td>Advanced Survival and Creative</td>\n",
       "      <td>3.5</td>\n",
       "      <td>0.0</td>\n",
       "      <td>144</td>\n",
       "      <td>2020-01-02</td>\n",
       "      <td>I was considering buying the full version. I w...</td>\n",
       "      <td>Survivalcraft 2 Day One, Igor Kalicinski, Game...</td>\n",
       "      <td>614</td>\n",
       "      <td>1343</td>\n",
       "      <td>30</td>\n",
       "      <td>2149.0</td>\n",
       "      <td>6.55</td>\n",
       "    </tr>\n",
       "    <tr>\n",
       "      <th>2</th>\n",
       "      <td>‎Samurai Slash - Run &amp; Slice</td>\n",
       "      <td>You are the last samurai. Cut off the bullets ...</td>\n",
       "      <td>https://is2-ssl.mzstatic.com/image/thumb/Purpl...</td>\n",
       "      <td>Fun Dash &amp; Cut game</td>\n",
       "      <td>5.0</td>\n",
       "      <td>0.0</td>\n",
       "      <td></td>\n",
       "      <td></td>\n",
       "      <td></td>\n",
       "      <td>Samurai Slash - Run &amp; Slice, Ketchapp, Games, ...</td>\n",
       "      <td>6</td>\n",
       "      <td>361</td>\n",
       "      <td>19</td>\n",
       "      <td>30.0</td>\n",
       "      <td>0.00</td>\n",
       "    </tr>\n",
       "    <tr>\n",
       "      <th>3</th>\n",
       "      <td>‎MilkChoco - Online FPS</td>\n",
       "      <td>Battle Royale Mode released!! : Survival mode ...</td>\n",
       "      <td>https://is3-ssl.mzstatic.com/image/thumb/Purpl...</td>\n",
       "      <td>Simple FPS online Game</td>\n",
       "      <td>4.4</td>\n",
       "      <td>0.0</td>\n",
       "      <td></td>\n",
       "      <td>2020-04-08</td>\n",
       "      <td>So, I just started playing this game and have ...</td>\n",
       "      <td>MilkChoco - Online FPS, GameParadiso, Games, A...</td>\n",
       "      <td>1300</td>\n",
       "      <td>1353</td>\n",
       "      <td>22</td>\n",
       "      <td>5720.0</td>\n",
       "      <td>24.76</td>\n",
       "    </tr>\n",
       "    <tr>\n",
       "      <th>4</th>\n",
       "      <td>‎Grand Theft Auto V: The Manual</td>\n",
       "      <td>GTAV: The Manual is the official manual app fo...</td>\n",
       "      <td>https://is2-ssl.mzstatic.com/image/thumb/Purpl...</td>\n",
       "      <td></td>\n",
       "      <td>3.9</td>\n",
       "      <td>0.0</td>\n",
       "      <td>157</td>\n",
       "      <td>2020-02-14</td>\n",
       "      <td>This is the kind of application every great ga...</td>\n",
       "      <td>Grand Theft Auto V: The Manual, Rockstar Games...</td>\n",
       "      <td>2200</td>\n",
       "      <td>2148</td>\n",
       "      <td>0</td>\n",
       "      <td>8580.0</td>\n",
       "      <td>30.11</td>\n",
       "    </tr>\n",
       "  </tbody>\n",
       "</table>\n",
       "</div>"
      ],
      "text/plain": [
       "                              name  \\\n",
       "0                      ‎Join Clash   \n",
       "1         ‎Survivalcraft 2 Day One   \n",
       "2     ‎Samurai Slash - Run & Slice   \n",
       "3          ‎MilkChoco - Online FPS   \n",
       "4  ‎Grand Theft Auto V: The Manual   \n",
       "\n",
       "                                         description  \\\n",
       "0  Epic survival run! Racing adventure that will ...   \n",
       "1  You are marooned on the shores of an infinite ...   \n",
       "2  You are the last samurai. Cut off the bullets ...   \n",
       "3  Battle Royale Mode released!! : Survival mode ...   \n",
       "4  GTAV: The Manual is the official manual app fo...   \n",
       "\n",
       "                                                icon  \\\n",
       "0  https://is2-ssl.mzstatic.com/image/thumb/Purpl...   \n",
       "1  https://is1-ssl.mzstatic.com/image/thumb/Purpl...   \n",
       "2  https://is2-ssl.mzstatic.com/image/thumb/Purpl...   \n",
       "3  https://is3-ssl.mzstatic.com/image/thumb/Purpl...   \n",
       "4  https://is2-ssl.mzstatic.com/image/thumb/Purpl...   \n",
       "\n",
       "                          summary  rating  price rank date_latest  \\\n",
       "0       Fill the City with Crowd!     4.6    0.0    6  2020-10-01   \n",
       "1  Advanced Survival and Creative     3.5    0.0  144  2020-01-02   \n",
       "2             Fun Dash & Cut game     5.0    0.0                    \n",
       "3          Simple FPS online Game     4.4    0.0       2020-04-08   \n",
       "4                                     3.9    0.0  157  2020-02-14   \n",
       "\n",
       "                                             reviews  \\\n",
       "0  Hopefully I have your attention! So first off,...   \n",
       "1  I was considering buying the full version. I w...   \n",
       "2                                                      \n",
       "3  So, I just started playing this game and have ...   \n",
       "4  This is the kind of application every great ga...   \n",
       "\n",
       "                                            keywords  rating_count  \\\n",
       "0  Join Clash, SUPERSONIC STUDIOS LTD, Games, Cas...        200600   \n",
       "1  Survivalcraft 2 Day One, Igor Kalicinski, Game...           614   \n",
       "2  Samurai Slash - Run & Slice, Ketchapp, Games, ...             6   \n",
       "3  MilkChoco - Online FPS, GameParadiso, Games, A...          1300   \n",
       "4  Grand Theft Auto V: The Manual, Rockstar Games...          2200   \n",
       "\n",
       "   description_length  summary_length    volume  traction  \n",
       "0                1589              25  922760.0  16777.45  \n",
       "1                1343              30    2149.0      6.55  \n",
       "2                 361              19      30.0      0.00  \n",
       "3                1353              22    5720.0     24.76  \n",
       "4                2148               0    8580.0     30.11  "
      ]
     },
     "execution_count": 4,
     "metadata": {},
     "output_type": "execute_result"
    }
   ],
   "source": [
    "import pandas as pd\n",
    "app_data = pd.read_csv(\"app_data_final_real.csv\")\n",
    "app_data_bad = pd.read_csv(\"app_data_final_real_bad.csv\")\n",
    "app_data = app_data.fillna(value = \"\")\n",
    "app_data_bad = app_data_bad.fillna(value = \"\")\n",
    "app_data.head()"
   ]
  },
  {
   "cell_type": "code",
   "execution_count": 5,
   "metadata": {},
   "outputs": [
    {
     "data": {
      "text/html": [
       "<div>\n",
       "<style scoped>\n",
       "    .dataframe tbody tr th:only-of-type {\n",
       "        vertical-align: middle;\n",
       "    }\n",
       "\n",
       "    .dataframe tbody tr th {\n",
       "        vertical-align: top;\n",
       "    }\n",
       "\n",
       "    .dataframe thead th {\n",
       "        text-align: right;\n",
       "    }\n",
       "</style>\n",
       "<table border=\"1\" class=\"dataframe\">\n",
       "  <thead>\n",
       "    <tr style=\"text-align: right;\">\n",
       "      <th></th>\n",
       "      <th>name</th>\n",
       "      <th>description</th>\n",
       "      <th>icon</th>\n",
       "      <th>summary</th>\n",
       "      <th>rating</th>\n",
       "      <th>price</th>\n",
       "      <th>rank</th>\n",
       "      <th>date_latest</th>\n",
       "      <th>reviews</th>\n",
       "      <th>keywords</th>\n",
       "      <th>rating_count</th>\n",
       "      <th>description_length</th>\n",
       "      <th>summary_length</th>\n",
       "      <th>volume</th>\n",
       "      <th>traction</th>\n",
       "    </tr>\n",
       "  </thead>\n",
       "  <tbody>\n",
       "    <tr>\n",
       "      <th>0</th>\n",
       "      <td>‎ABC Nursery Runner For Kids</td>\n",
       "      <td>ABC Learn All Alphabet is an educational game ...</td>\n",
       "      <td>https://is5-ssl.mzstatic.com/image/thumb/Purpl...</td>\n",
       "      <td></td>\n",
       "      <td>0.0</td>\n",
       "      <td>0.0</td>\n",
       "      <td></td>\n",
       "      <td></td>\n",
       "      <td></td>\n",
       "      <td>ABC Nursery Runner For Kids, Tanawat Prakaewva...</td>\n",
       "      <td>0</td>\n",
       "      <td>279</td>\n",
       "      <td>0</td>\n",
       "      <td>0.0</td>\n",
       "      <td>0.00</td>\n",
       "    </tr>\n",
       "    <tr>\n",
       "      <th>1</th>\n",
       "      <td>‎AA Colors - 99 Problems</td>\n",
       "      <td>Classic game with full of fun and addiction. Y...</td>\n",
       "      <td>https://is5-ssl.mzstatic.com/image/thumb/Purpl...</td>\n",
       "      <td></td>\n",
       "      <td>5.0</td>\n",
       "      <td>0.0</td>\n",
       "      <td></td>\n",
       "      <td>2015-12-15</td>\n",
       "      <td></td>\n",
       "      <td>AA Colors - 99 Problems, Duy Nguyen, Games, Ac...</td>\n",
       "      <td>2</td>\n",
       "      <td>280</td>\n",
       "      <td>0</td>\n",
       "      <td>10.0</td>\n",
       "      <td>0.01</td>\n",
       "    </tr>\n",
       "    <tr>\n",
       "      <th>2</th>\n",
       "      <td>‎Abcar Race</td>\n",
       "      <td>NOW FREE !!!!!!!!!!! In Abcar Race, you can ra...</td>\n",
       "      <td>https://is4-ssl.mzstatic.com/image/thumb/Purpl...</td>\n",
       "      <td></td>\n",
       "      <td>5.0</td>\n",
       "      <td>0.0</td>\n",
       "      <td></td>\n",
       "      <td>2014-11-07</td>\n",
       "      <td></td>\n",
       "      <td>Abcar Race, ARDEVTEK YAZILIM, Games, Action, R...</td>\n",
       "      <td>1</td>\n",
       "      <td>321</td>\n",
       "      <td>0</td>\n",
       "      <td>5.0</td>\n",
       "      <td>0.00</td>\n",
       "    </tr>\n",
       "    <tr>\n",
       "      <th>3</th>\n",
       "      <td>‎ABC Knight Run</td>\n",
       "      <td>Play as the ABC Knight, the curious noble who ...</td>\n",
       "      <td>https://is2-ssl.mzstatic.com/image/thumb/Purpl...</td>\n",
       "      <td></td>\n",
       "      <td>5.0</td>\n",
       "      <td>0.0</td>\n",
       "      <td></td>\n",
       "      <td>2017-06-08</td>\n",
       "      <td></td>\n",
       "      <td>ABC Knight Run, Brandon Bombard, Games, Advent...</td>\n",
       "      <td>1</td>\n",
       "      <td>565</td>\n",
       "      <td>0</td>\n",
       "      <td>5.0</td>\n",
       "      <td>0.00</td>\n",
       "    </tr>\n",
       "    <tr>\n",
       "      <th>4</th>\n",
       "      <td>‎Absolute Defense</td>\n",
       "      <td>Defend your zone, upgrade your turrets and bea...</td>\n",
       "      <td>https://is1-ssl.mzstatic.com/image/thumb/Purpl...</td>\n",
       "      <td></td>\n",
       "      <td>0.0</td>\n",
       "      <td>0.0</td>\n",
       "      <td></td>\n",
       "      <td></td>\n",
       "      <td></td>\n",
       "      <td>Absolute Defense, RedLine Games, Games, Action...</td>\n",
       "      <td>0</td>\n",
       "      <td>71</td>\n",
       "      <td>0</td>\n",
       "      <td>0.0</td>\n",
       "      <td>0.00</td>\n",
       "    </tr>\n",
       "  </tbody>\n",
       "</table>\n",
       "</div>"
      ],
      "text/plain": [
       "                           name  \\\n",
       "0  ‎ABC Nursery Runner For Kids   \n",
       "1      ‎AA Colors - 99 Problems   \n",
       "2                   ‎Abcar Race   \n",
       "3               ‎ABC Knight Run   \n",
       "4             ‎Absolute Defense   \n",
       "\n",
       "                                         description  \\\n",
       "0  ABC Learn All Alphabet is an educational game ...   \n",
       "1  Classic game with full of fun and addiction. Y...   \n",
       "2  NOW FREE !!!!!!!!!!! In Abcar Race, you can ra...   \n",
       "3  Play as the ABC Knight, the curious noble who ...   \n",
       "4  Defend your zone, upgrade your turrets and bea...   \n",
       "\n",
       "                                                icon summary  rating  price  \\\n",
       "0  https://is5-ssl.mzstatic.com/image/thumb/Purpl...             0.0    0.0   \n",
       "1  https://is5-ssl.mzstatic.com/image/thumb/Purpl...             5.0    0.0   \n",
       "2  https://is4-ssl.mzstatic.com/image/thumb/Purpl...             5.0    0.0   \n",
       "3  https://is2-ssl.mzstatic.com/image/thumb/Purpl...             5.0    0.0   \n",
       "4  https://is1-ssl.mzstatic.com/image/thumb/Purpl...             0.0    0.0   \n",
       "\n",
       "  rank date_latest reviews                                           keywords  \\\n",
       "0                           ABC Nursery Runner For Kids, Tanawat Prakaewva...   \n",
       "1       2015-12-15          AA Colors - 99 Problems, Duy Nguyen, Games, Ac...   \n",
       "2       2014-11-07          Abcar Race, ARDEVTEK YAZILIM, Games, Action, R...   \n",
       "3       2017-06-08          ABC Knight Run, Brandon Bombard, Games, Advent...   \n",
       "4                           Absolute Defense, RedLine Games, Games, Action...   \n",
       "\n",
       "   rating_count  description_length  summary_length  volume  traction  \n",
       "0             0                 279               0     0.0      0.00  \n",
       "1             2                 280               0    10.0      0.01  \n",
       "2             1                 321               0     5.0      0.00  \n",
       "3             1                 565               0     5.0      0.00  \n",
       "4             0                  71               0     0.0      0.00  "
      ]
     },
     "execution_count": 5,
     "metadata": {},
     "output_type": "execute_result"
    }
   ],
   "source": [
    "app_data_bad.head()"
   ]
  },
  {
   "cell_type": "markdown",
   "metadata": {},
   "source": [
    "Next, we remove possible duplicates (apps normally gathered, that were by chance also popular apps)"
   ]
  },
  {
   "cell_type": "code",
   "execution_count": 6,
   "metadata": {},
   "outputs": [
    {
     "name": "stdout",
     "output_type": "stream",
     "text": [
      "1015\n",
      "1003\n"
     ]
    }
   ],
   "source": [
    "print(len(app_data_bad))\n",
    "app_data_bad = app_data_bad[~app_data_bad[\"name\"].isin(app_data[\"name\"])]\n",
    "\n",
    "print(len(app_data_bad))"
   ]
  },
  {
   "cell_type": "markdown",
   "metadata": {},
   "source": [
    "As we can see, there were 12 such apps."
   ]
  },
  {
   "cell_type": "markdown",
   "metadata": {},
   "source": [
    "Next, we need to convert some qualatative categories into quantatative (numerical) scores for *both* the popular, and normal apps. Taking the icon image specifically:<br><br>\n",
    "\n",
    "We begin by retrieving the image URL, and passing it to an API call, that returns the primary colors extracted in a dictionary (along with their respective weights). We take all of these colors, and convert each into a \"score\", given the following criteria: We take the hex value and convert into an RGB. We add the sum and find the mean, then find the variance of the 3-tuple of color values. A low variance will indicate darker colors (similar RGB values). A large variance will indicate very bright colors (highly spread out range of colors). We return this value over 43350 (the total possible variance) in order to maintain a ratio out of 1. We do this for every color in the image and sum up the results to get a \"score\" for each image. Higher scores indicate brighter icons, with potentially more appealing visuals that users will be prompted to click on. "
   ]
  },
  {
   "cell_type": "code",
   "execution_count": 34,
   "metadata": {},
   "outputs": [],
   "source": [
    "import requests\n",
    "import urllib.request\n",
    "import math\n",
    "\n",
    "def hex_to_rgb(hex):\n",
    "    hlen = len(hex)\n",
    "    return tuple(int(hex[i:i+hlen//3], 16) for i in range(0, hlen, hlen//3))\n",
    "def var_color(rgb):\n",
    "    mean = (rgb[0] + rgb[1] + rgb[2]) / 3\n",
    "    var_sum = 0\n",
    "    for i in range(3):\n",
    "        var_sum += math.pow((rgb[i] - mean), 2)\n",
    "    return var_sum / 43350\n",
    "\n",
    "def return_color_scores(apps):\n",
    "    colors_score = []\n",
    "    for img in apps[\"icon\"]:\n",
    "        if img != \"\":\n",
    "            urllib.request.urlretrieve(img, \"next.png\")\n",
    "\n",
    "            api_key = 'acc_9e36f4af1cbce4a'\n",
    "            api_secret = 'b912fdcc1b10c6b21e675a9dc445c4e2'\n",
    "            image_path = 'next.png'\n",
    "\n",
    "            response = requests.post(\n",
    "                'https://api.imagga.com/v2/colors',\n",
    "                auth=(api_key, api_secret),\n",
    "                files={'image': open(image_path, 'rb')})\n",
    "            res =response.json()\n",
    "            hex_vals = []\n",
    "            weight = []\n",
    "\n",
    "            for color_dict in res[\"result\"][\"colors\"][\"background_colors\"]:\n",
    "                hex_vals.append(color_dict[\"closest_palette_color_html_code\"][1:])\n",
    "                weight.append(.01 * color_dict[\"percent\"])\n",
    "\n",
    "            for color_dict in res[\"result\"][\"colors\"][\"foreground_colors\"]:\n",
    "                hex_vals.append(color_dict[\"closest_palette_color_html_code\"][1:])\n",
    "                weight.append(.01 * color_dict[\"percent\"])\n",
    "            total = 0\n",
    "            i = 0\n",
    "            for hex_v in hex_vals:\n",
    "                total += weight[i] * var_color(hex_to_rgb(hex_v))\n",
    "                i += 1\n",
    "            print(total)\n",
    "            time.sleep(3)\n",
    "            colors_score.append(1000*total)\n",
    "        else:\n",
    "            colors_score.append(0)\n",
    "    return colors_score\n",
    "app_scores = return_color_scores(app_data)\n",
    "app_scores_bad = return_color_scores(app_data_bad)\n"
   ]
  },
  {
   "cell_type": "code",
   "execution_count": 39,
   "metadata": {},
   "outputs": [
    {
     "name": "stdout",
     "output_type": "stream",
     "text": [
      "Maximum color score (out of 100) for Popular Apps: 19.86\n",
      "Maximum color score (out of 100) for Normal Apps: 19.972\n"
     ]
    }
   ],
   "source": [
    "print(\"Maximum color score (out of 100) for Popular Apps: \" + str(round(max(app_scores), 3)))\n",
    "print(\"Maximum color score (out of 100) for Normal Apps: \" + str(round(max(app_scores_bad), 3)))\n"
   ]
  },
  {
   "cell_type": "markdown",
   "metadata": {},
   "source": [
    "None of the apps tested acheived a particularly high color score based on the proposed heuristic. To see if these apps are distinguishable based on the color scores given, we can also look at the mean scores:"
   ]
  },
  {
   "cell_type": "code",
   "execution_count": 43,
   "metadata": {},
   "outputs": [
    {
     "name": "stdout",
     "output_type": "stream",
     "text": [
      "Mean color score (out of 100) for Popular Apps: 5.098\n",
      "Mean color score (out of 100) for Normal Apps: 5.127\n"
     ]
    }
   ],
   "source": [
    "print(\"Mean color score (out of 100) for Popular Apps: \" + str(round(np.mean(app_scores), 3)))\n",
    "print(\"Mean color score (out of 100) for Normal Apps: \" + str(round(np.mean(app_scores_bad), 3)))"
   ]
  },
  {
   "cell_type": "markdown",
   "metadata": {},
   "source": [
    "Based on the similar means, it is reasonable that either color scheme has no significant impact on the popularity of an app, or our color score heuristic was not an accurate predictor. Regardless, we will exclude this category from further analysis.<br><br>\n",
    "\n",
    "For the next primary category, we must convert keywords into a numerical score. To do this, we will loop through every keyword in every app, and add them all into a word frequency dictionary. Then, we will again loop through the keywords for every app, and add together a total score based on the frequency of every given keyword (for example, if \"term1\" appeared a total of 20 times, it will contribute 20 points to any app that used this keyword). Finally, it is important to note that most large game development companies used their own company name as a keyword. This frequency usually appears more than once but less than 10 times for any developer. So, this case will be handled specially, and we will double any score of an app we predict to be from a large developer."
   ]
  },
  {
   "cell_type": "code",
   "execution_count": 7,
   "metadata": {},
   "outputs": [],
   "source": [
    "word_count_pop = {}\n",
    "for keywords in app_data[\"keywords\"]:\n",
    "    for word in keywords.split(\",\"): \n",
    "        word = word.strip(\" \")\n",
    "        if word not in word_count_pop:\n",
    "            word_count_pop[word] = 0 \n",
    "        word_count_pop[word] += 1\n",
    "\n",
    "for keywords in app_data_bad[\"keywords\"]:\n",
    "    for word in keywords.split(\",\"): \n",
    "        word = word.strip(\" \")\n",
    "        if word not in word_count_pop:\n",
    "            word_count_pop[word] = 0 \n",
    "        word_count_pop[word] += 1  \n",
    "\n",
    "\n",
    "score_pop = []\n",
    "for keywords in app_data[\"keywords\"]:\n",
    "    wc = 0\n",
    "    big_dev = 0\n",
    "    for word in keywords.split(\",\"): \n",
    "        word = word.strip(\" \")\n",
    "        if word in word_count_pop:\n",
    "            if word_count_pop[word] > 1 and word_count_pop[word] < 10:\n",
    "                # Likely big-name developer\n",
    "                big_dev = 1\n",
    "            else:\n",
    "                wc += word_count_pop[word]\n",
    "    if big_dev == 1:\n",
    "        score_pop.append(wc * 2)\n",
    "    else:\n",
    "        score_pop.append(wc)\n",
    "\n",
    "score_non = []\n",
    "for keywords in app_data_bad[\"keywords\"]:\n",
    "    wc = 0\n",
    "    big_dev = 0\n",
    "    for word in keywords.split(\",\"): \n",
    "        word = word.strip(\" \")\n",
    "        if word in word_count_pop:\n",
    "            if word_count_pop[word] > 1 and word_count_pop[word] < 10:\n",
    "                # Likely big-name developer\n",
    "                big_dev = 1\n",
    "            else:\n",
    "                wc += word_count_pop[word]\n",
    "    if big_dev == 1:\n",
    "        score_non.append(wc * 2)\n",
    "    else:\n",
    "        score_non.append(wc)\n",
    "\n",
    "app_data[\"keywords\"] = score_pop  \n",
    "app_data_bad[\"keywords\"] = score_non      "
   ]
  },
  {
   "cell_type": "code",
   "execution_count": 283,
   "metadata": {},
   "outputs": [
    {
     "data": {
      "text/plain": [
       "<matplotlib.legend.Legend at 0x158b44a20a0>"
      ]
     },
     "execution_count": 283,
     "metadata": {},
     "output_type": "execute_result"
    },
    {
     "data": {
      "image/png": "[encoded data removed]",
      "text/plain": [
       "<Figure size 576x432 with 1 Axes>"
      ]
     },
     "metadata": {
      "needs_background": "light"
     },
     "output_type": "display_data"
    }
   ],
   "source": [
    "from matplotlib import pyplot as plt\n",
    "plt.figure(figsize=(8,6))\n",
    "plt.hist(score_pop, alpha=0.5, label=\"data1\")\n",
    "plt.hist(score_non, alpha=0.5, label=\"data2\")\n",
    "plt.legend(['Normal', 'Popular'])\n"
   ]
  },
  {
   "cell_type": "markdown",
   "metadata": {},
   "source": [
    "Above, we see the histograms of each app's scores for keywords. Popular apps in blue and normal apps in orange. There is not a significant difference, but enough so in the favor of the popular apps that it may provide a useful insight in the final regression model."
   ]
  },
  {
   "cell_type": "markdown",
   "metadata": {},
   "source": [
    "We begin our regression model by adding in a \"classify\" category to every app (1 if popular, 0 if normal)."
   ]
  },
  {
   "cell_type": "code",
   "execution_count": 140,
   "metadata": {},
   "outputs": [],
   "source": [
    "good = []\n",
    "bad = []\n",
    "for i in range(len(app_data)):\n",
    "    good.append(1)\n",
    "for i in range(len(app_data_bad)):\n",
    "    bad.append(0)\n",
    "app_data[\"classify\"] = good\n",
    "app_data_bad[\"classify\"] = bad"
   ]
  },
  {
   "cell_type": "markdown",
   "metadata": {},
   "source": [
    "Next, we concatenate the dataframes, and randomize the rows:"
   ]
  },
  {
   "cell_type": "code",
   "execution_count": 141,
   "metadata": {},
   "outputs": [
    {
     "data": {
      "text/html": [
       "<div>\n",
       "<style scoped>\n",
       "    .dataframe tbody tr th:only-of-type {\n",
       "        vertical-align: middle;\n",
       "    }\n",
       "\n",
       "    .dataframe tbody tr th {\n",
       "        vertical-align: top;\n",
       "    }\n",
       "\n",
       "    .dataframe thead th {\n",
       "        text-align: right;\n",
       "    }\n",
       "</style>\n",
       "<table border=\"1\" class=\"dataframe\">\n",
       "  <thead>\n",
       "    <tr style=\"text-align: right;\">\n",
       "      <th></th>\n",
       "      <th>name</th>\n",
       "      <th>description</th>\n",
       "      <th>icon</th>\n",
       "      <th>summary</th>\n",
       "      <th>rating</th>\n",
       "      <th>price</th>\n",
       "      <th>rank</th>\n",
       "      <th>date_latest</th>\n",
       "      <th>reviews</th>\n",
       "      <th>keywords</th>\n",
       "      <th>rating_count</th>\n",
       "      <th>description_length</th>\n",
       "      <th>summary_length</th>\n",
       "      <th>volume</th>\n",
       "      <th>traction</th>\n",
       "      <th>classify</th>\n",
       "    </tr>\n",
       "  </thead>\n",
       "  <tbody>\n",
       "    <tr>\n",
       "      <th>388</th>\n",
       "      <td>‎Natural Island</td>\n",
       "      <td>On one morning, you lost your memory and find ...</td>\n",
       "      <td>https://is5-ssl.mzstatic.com/image/thumb/Purpl...</td>\n",
       "      <td>Find the treasure chest</td>\n",
       "      <td>0.0</td>\n",
       "      <td>0.00</td>\n",
       "      <td>0</td>\n",
       "      <td>2020-03-02</td>\n",
       "      <td></td>\n",
       "      <td>19183</td>\n",
       "      <td>0</td>\n",
       "      <td>900</td>\n",
       "      <td>23</td>\n",
       "      <td>0.0</td>\n",
       "      <td>0.00</td>\n",
       "      <td>0</td>\n",
       "    </tr>\n",
       "    <tr>\n",
       "      <th>571</th>\n",
       "      <td>‎Miga Town : Game &amp; TV Shows</td>\n",
       "      <td>Have a tour in a brand new scene at the TV sta...</td>\n",
       "      <td>https://is3-ssl.mzstatic.com/image/thumb/Purpl...</td>\n",
       "      <td>Made eveything different!</td>\n",
       "      <td>3.6</td>\n",
       "      <td>0.00</td>\n",
       "      <td>1</td>\n",
       "      <td>2020-03-12</td>\n",
       "      <td>This is a really fun game. You can get pretty ...</td>\n",
       "      <td>19605</td>\n",
       "      <td>791</td>\n",
       "      <td>1296</td>\n",
       "      <td>25</td>\n",
       "      <td>2847.6</td>\n",
       "      <td>11.04</td>\n",
       "      <td>1</td>\n",
       "    </tr>\n",
       "    <tr>\n",
       "      <th>567</th>\n",
       "      <td>‎Farm Life Farming Simulator</td>\n",
       "      <td>Start your own farming business, cultivate the...</td>\n",
       "      <td>https://is2-ssl.mzstatic.com/image/thumb/Purpl...</td>\n",
       "      <td>Farmer Simulator Farm Games</td>\n",
       "      <td>4.9</td>\n",
       "      <td>0.00</td>\n",
       "      <td>0</td>\n",
       "      <td>2020-10-09</td>\n",
       "      <td>Requires iOS 10.0 or later. Compatible with iP...</td>\n",
       "      <td>20026</td>\n",
       "      <td>7</td>\n",
       "      <td>1117</td>\n",
       "      <td>27</td>\n",
       "      <td>34.3</td>\n",
       "      <td>0.75</td>\n",
       "      <td>0</td>\n",
       "    </tr>\n",
       "    <tr>\n",
       "      <th>437</th>\n",
       "      <td>‎Safari Pro Hunter - The Jungle Hunting Season...</td>\n",
       "      <td>Safari Pro Hunter - The Jungle Hunting Season ...</td>\n",
       "      <td>https://is5-ssl.mzstatic.com/image/thumb/Purpl...</td>\n",
       "      <td></td>\n",
       "      <td>0.0</td>\n",
       "      <td>0.00</td>\n",
       "      <td>0</td>\n",
       "      <td>2016-03-17</td>\n",
       "      <td></td>\n",
       "      <td>19264</td>\n",
       "      <td>0</td>\n",
       "      <td>1385</td>\n",
       "      <td>0</td>\n",
       "      <td>0.0</td>\n",
       "      <td>0.00</td>\n",
       "      <td>0</td>\n",
       "    </tr>\n",
       "    <tr>\n",
       "      <th>1002</th>\n",
       "      <td>‎Yellow Cab Driver 2016 Real Las Vegas City Tr...</td>\n",
       "      <td>As a taxi driver you have a big responsibility...</td>\n",
       "      <td>https://is2-ssl.mzstatic.com/image/thumb/Purpl...</td>\n",
       "      <td></td>\n",
       "      <td>5.0</td>\n",
       "      <td>0.00</td>\n",
       "      <td>0</td>\n",
       "      <td>2016-11-15</td>\n",
       "      <td></td>\n",
       "      <td>19547</td>\n",
       "      <td>1</td>\n",
       "      <td>1333</td>\n",
       "      <td>0</td>\n",
       "      <td>5.0</td>\n",
       "      <td>0.00</td>\n",
       "      <td>0</td>\n",
       "    </tr>\n",
       "    <tr>\n",
       "      <th>...</th>\n",
       "      <td>...</td>\n",
       "      <td>...</td>\n",
       "      <td>...</td>\n",
       "      <td>...</td>\n",
       "      <td>...</td>\n",
       "      <td>...</td>\n",
       "      <td>...</td>\n",
       "      <td>...</td>\n",
       "      <td>...</td>\n",
       "      <td>...</td>\n",
       "      <td>...</td>\n",
       "      <td>...</td>\n",
       "      <td>...</td>\n",
       "      <td>...</td>\n",
       "      <td>...</td>\n",
       "      <td>...</td>\n",
       "    </tr>\n",
       "    <tr>\n",
       "      <th>642</th>\n",
       "      <td>‎Newborn Baby Care Babysitter</td>\n",
       "      <td>Babies are so adorable! Every new born baby ne...</td>\n",
       "      <td>https://is3-ssl.mzstatic.com/image/thumb/Purpl...</td>\n",
       "      <td>Babysitting Games For Girls</td>\n",
       "      <td>4.6</td>\n",
       "      <td>0.00</td>\n",
       "      <td>0</td>\n",
       "      <td>2020-07-15</td>\n",
       "      <td></td>\n",
       "      <td>18823</td>\n",
       "      <td>10</td>\n",
       "      <td>2825</td>\n",
       "      <td>27</td>\n",
       "      <td>46.0</td>\n",
       "      <td>0.35</td>\n",
       "      <td>0</td>\n",
       "    </tr>\n",
       "    <tr>\n",
       "      <th>119</th>\n",
       "      <td>‎Land the Eagle</td>\n",
       "      <td>Land the Lunar Module on the surface without c...</td>\n",
       "      <td>https://is3-ssl.mzstatic.com/image/thumb/Purpl...</td>\n",
       "      <td></td>\n",
       "      <td>3.3</td>\n",
       "      <td>0.00</td>\n",
       "      <td>0</td>\n",
       "      <td>2014-03-06</td>\n",
       "      <td></td>\n",
       "      <td>19259</td>\n",
       "      <td>3</td>\n",
       "      <td>161</td>\n",
       "      <td>0</td>\n",
       "      <td>9.9</td>\n",
       "      <td>0.00</td>\n",
       "      <td>0</td>\n",
       "    </tr>\n",
       "    <tr>\n",
       "      <th>914</th>\n",
       "      <td>‎PaD Lix</td>\n",
       "      <td>Have you played iOS game \"Puzzle &amp; Dragons\"? T...</td>\n",
       "      <td>https://is4-ssl.mzstatic.com/image/thumb/Purpl...</td>\n",
       "      <td></td>\n",
       "      <td>0.0</td>\n",
       "      <td>0.00</td>\n",
       "      <td>0</td>\n",
       "      <td>2014-10-15</td>\n",
       "      <td></td>\n",
       "      <td>37492</td>\n",
       "      <td>0</td>\n",
       "      <td>970</td>\n",
       "      <td>0</td>\n",
       "      <td>0.0</td>\n",
       "      <td>0.00</td>\n",
       "      <td>0</td>\n",
       "    </tr>\n",
       "    <tr>\n",
       "      <th>300</th>\n",
       "      <td>‎Atlantis 3: The New World (Universal)</td>\n",
       "      <td>A dreamy trip to Atlantis  In 2020 in the dese...</td>\n",
       "      <td>https://is4-ssl.mzstatic.com/image/thumb/Purpl...</td>\n",
       "      <td></td>\n",
       "      <td>3.0</td>\n",
       "      <td>2.99</td>\n",
       "      <td>0</td>\n",
       "      <td></td>\n",
       "      <td>I really wish the Microid games were more thor...</td>\n",
       "      <td>40058</td>\n",
       "      <td>3</td>\n",
       "      <td>2127</td>\n",
       "      <td>0</td>\n",
       "      <td>9.0</td>\n",
       "      <td>0.00</td>\n",
       "      <td>1</td>\n",
       "    </tr>\n",
       "    <tr>\n",
       "      <th>502</th>\n",
       "      <td>‎Face Paint Party Salon Games</td>\n",
       "      <td>***Over 5+ Million Downloads! Includes New cha...</td>\n",
       "      <td>https://is4-ssl.mzstatic.com/image/thumb/Purpl...</td>\n",
       "      <td>Makeup, Makeover &amp; Dress Up</td>\n",
       "      <td>4.4</td>\n",
       "      <td>0.00</td>\n",
       "      <td>1</td>\n",
       "      <td>2020-10-09</td>\n",
       "      <td>This game was super fun at first, and it’s a r...</td>\n",
       "      <td>18747</td>\n",
       "      <td>33300</td>\n",
       "      <td>2852</td>\n",
       "      <td>27</td>\n",
       "      <td>146520.0</td>\n",
       "      <td>3117.45</td>\n",
       "      <td>1</td>\n",
       "    </tr>\n",
       "  </tbody>\n",
       "</table>\n",
       "<p>1816 rows × 16 columns</p>\n",
       "</div>"
      ],
      "text/plain": [
       "                                                   name  \\\n",
       "388                                     ‎Natural Island   \n",
       "571                        ‎Miga Town : Game & TV Shows   \n",
       "567                        ‎Farm Life Farming Simulator   \n",
       "437   ‎Safari Pro Hunter - The Jungle Hunting Season...   \n",
       "1002  ‎Yellow Cab Driver 2016 Real Las Vegas City Tr...   \n",
       "...                                                 ...   \n",
       "642                       ‎Newborn Baby Care Babysitter   \n",
       "119                                     ‎Land the Eagle   \n",
       "914                                            ‎PaD Lix   \n",
       "300              ‎Atlantis 3: The New World (Universal)   \n",
       "502                       ‎Face Paint Party Salon Games   \n",
       "\n",
       "                                            description  \\\n",
       "388   On one morning, you lost your memory and find ...   \n",
       "571   Have a tour in a brand new scene at the TV sta...   \n",
       "567   Start your own farming business, cultivate the...   \n",
       "437   Safari Pro Hunter - The Jungle Hunting Season ...   \n",
       "1002  As a taxi driver you have a big responsibility...   \n",
       "...                                                 ...   \n",
       "642   Babies are so adorable! Every new born baby ne...   \n",
       "119   Land the Lunar Module on the surface without c...   \n",
       "914   Have you played iOS game \"Puzzle & Dragons\"? T...   \n",
       "300   A dreamy trip to Atlantis  In 2020 in the dese...   \n",
       "502   ***Over 5+ Million Downloads! Includes New cha...   \n",
       "\n",
       "                                                   icon  \\\n",
       "388   https://is5-ssl.mzstatic.com/image/thumb/Purpl...   \n",
       "571   https://is3-ssl.mzstatic.com/image/thumb/Purpl...   \n",
       "567   https://is2-ssl.mzstatic.com/image/thumb/Purpl...   \n",
       "437   https://is5-ssl.mzstatic.com/image/thumb/Purpl...   \n",
       "1002  https://is2-ssl.mzstatic.com/image/thumb/Purpl...   \n",
       "...                                                 ...   \n",
       "642   https://is3-ssl.mzstatic.com/image/thumb/Purpl...   \n",
       "119   https://is3-ssl.mzstatic.com/image/thumb/Purpl...   \n",
       "914   https://is4-ssl.mzstatic.com/image/thumb/Purpl...   \n",
       "300   https://is4-ssl.mzstatic.com/image/thumb/Purpl...   \n",
       "502   https://is4-ssl.mzstatic.com/image/thumb/Purpl...   \n",
       "\n",
       "                          summary  rating  price  rank date_latest  \\\n",
       "388       Find the treasure chest     0.0   0.00     0  2020-03-02   \n",
       "571     Made eveything different!     3.6   0.00     1  2020-03-12   \n",
       "567   Farmer Simulator Farm Games     4.9   0.00     0  2020-10-09   \n",
       "437                                   0.0   0.00     0  2016-03-17   \n",
       "1002                                  5.0   0.00     0  2016-11-15   \n",
       "...                           ...     ...    ...   ...         ...   \n",
       "642   Babysitting Games For Girls     4.6   0.00     0  2020-07-15   \n",
       "119                                   3.3   0.00     0  2014-03-06   \n",
       "914                                   0.0   0.00     0  2014-10-15   \n",
       "300                                   3.0   2.99     0               \n",
       "502   Makeup, Makeover & Dress Up     4.4   0.00     1  2020-10-09   \n",
       "\n",
       "                                                reviews  keywords  \\\n",
       "388                                                         19183   \n",
       "571   This is a really fun game. You can get pretty ...     19605   \n",
       "567   Requires iOS 10.0 or later. Compatible with iP...     20026   \n",
       "437                                                         19264   \n",
       "1002                                                        19547   \n",
       "...                                                 ...       ...   \n",
       "642                                                         18823   \n",
       "119                                                         19259   \n",
       "914                                                         37492   \n",
       "300   I really wish the Microid games were more thor...     40058   \n",
       "502   This game was super fun at first, and it’s a r...     18747   \n",
       "\n",
       "      rating_count  description_length  summary_length    volume  traction  \\\n",
       "388              0                 900              23       0.0      0.00   \n",
       "571            791                1296              25    2847.6     11.04   \n",
       "567              7                1117              27      34.3      0.75   \n",
       "437              0                1385               0       0.0      0.00   \n",
       "1002             1                1333               0       5.0      0.00   \n",
       "...            ...                 ...             ...       ...       ...   \n",
       "642             10                2825              27      46.0      0.35   \n",
       "119              3                 161               0       9.9      0.00   \n",
       "914              0                 970               0       0.0      0.00   \n",
       "300              3                2127               0       9.0      0.00   \n",
       "502          33300                2852              27  146520.0   3117.45   \n",
       "\n",
       "      classify  \n",
       "388          0  \n",
       "571          1  \n",
       "567          0  \n",
       "437          0  \n",
       "1002         0  \n",
       "...        ...  \n",
       "642          0  \n",
       "119          0  \n",
       "914          0  \n",
       "300          1  \n",
       "502          1  \n",
       "\n",
       "[1816 rows x 16 columns]"
      ]
     },
     "execution_count": 141,
     "metadata": {},
     "output_type": "execute_result"
    }
   ],
   "source": [
    "frames = [app_data, app_data_bad]\n",
    "apps_all = pd.concat(frames)\n",
    "apps_all = apps_all.sample(frac=1)\n",
    "apps_all[0:50]\n",
    "ratings = []\n",
    "for rating in apps_all[\"rank\"]:\n",
    "    if rating == \"\":\n",
    "        ratings.append(0)\n",
    "    else:\n",
    "        ratings.append(1)\n",
    "apps_all[\"rank\"] = ratings\n",
    "apps_all"
   ]
  },
  {
   "cell_type": "markdown",
   "metadata": {},
   "source": [
    "We create the actual model now, including attributes of keywords, rating, price, rank, rating count, description length, summary length, volume, and traction, in order to predict classification:"
   ]
  },
  {
   "cell_type": "code",
   "execution_count": 284,
   "metadata": {},
   "outputs": [],
   "source": [
    "attributes = [\"keywords\", \"rating\", \"price\", \"rank\", \"rating_count\", \"description_length\", \"summary_length\", \"volume\", \"traction\"]"
   ]
  },
  {
   "cell_type": "markdown",
   "metadata": {},
   "source": [
    "We strive to identify how well the attributes are able to predict \"unknown\" apps. As such, we will use a training / testing split, with the training sample as 80% of our available apps, and the testing sample as 20%."
   ]
  },
  {
   "cell_type": "code",
   "execution_count": 144,
   "metadata": {},
   "outputs": [
    {
     "name": "stdout",
     "output_type": "stream",
     "text": [
      "App Training:\n"
     ]
    },
    {
     "data": {
      "text/html": [
       "<div>\n",
       "<style scoped>\n",
       "    .dataframe tbody tr th:only-of-type {\n",
       "        vertical-align: middle;\n",
       "    }\n",
       "\n",
       "    .dataframe tbody tr th {\n",
       "        vertical-align: top;\n",
       "    }\n",
       "\n",
       "    .dataframe thead th {\n",
       "        text-align: right;\n",
       "    }\n",
       "</style>\n",
       "<table border=\"1\" class=\"dataframe\">\n",
       "  <thead>\n",
       "    <tr style=\"text-align: right;\">\n",
       "      <th></th>\n",
       "      <th>name</th>\n",
       "      <th>description</th>\n",
       "      <th>icon</th>\n",
       "      <th>summary</th>\n",
       "      <th>rating</th>\n",
       "      <th>price</th>\n",
       "      <th>rank</th>\n",
       "      <th>date_latest</th>\n",
       "      <th>reviews</th>\n",
       "      <th>keywords</th>\n",
       "      <th>rating_count</th>\n",
       "      <th>description_length</th>\n",
       "      <th>summary_length</th>\n",
       "      <th>volume</th>\n",
       "      <th>traction</th>\n",
       "      <th>classify</th>\n",
       "    </tr>\n",
       "  </thead>\n",
       "  <tbody>\n",
       "    <tr>\n",
       "      <th>686</th>\n",
       "      <td>‎Escapists 2: Pocket Breakout</td>\n",
       "      <td>The Escapists 2 is a hilariously thrilling, sa...</td>\n",
       "      <td>https://is3-ssl.mzstatic.com/image/thumb/Purpl...</td>\n",
       "      <td>Prison Escape Simulator</td>\n",
       "      <td>4.7</td>\n",
       "      <td>6.99</td>\n",
       "      <td>1</td>\n",
       "      <td>2020-03-24</td>\n",
       "      <td>UPDATE: The Past Review was talking about a bu...</td>\n",
       "      <td>19597</td>\n",
       "      <td>5400</td>\n",
       "      <td>1155</td>\n",
       "      <td>23</td>\n",
       "      <td>25380.0</td>\n",
       "      <td>103.17</td>\n",
       "      <td>1</td>\n",
       "    </tr>\n",
       "    <tr>\n",
       "      <th>811</th>\n",
       "      <td>‎Helicopter Simulator 2018</td>\n",
       "      <td>Master all the helicopters controls in this am...</td>\n",
       "      <td>https://is1-ssl.mzstatic.com/image/thumb/Purpl...</td>\n",
       "      <td>SimCopter 2018 Helicopter Sim</td>\n",
       "      <td>2.7</td>\n",
       "      <td>0.00</td>\n",
       "      <td>0</td>\n",
       "      <td>2020-06-14</td>\n",
       "      <td>This is the best game ever, I turn on the heli...</td>\n",
       "      <td>40212</td>\n",
       "      <td>165</td>\n",
       "      <td>1187</td>\n",
       "      <td>29</td>\n",
       "      <td>445.5</td>\n",
       "      <td>2.72</td>\n",
       "      <td>1</td>\n",
       "    </tr>\n",
       "    <tr>\n",
       "      <th>1010</th>\n",
       "      <td>‎Zombie Motors</td>\n",
       "      <td>Protect the zombie apocalypse! Zombies have wo...</td>\n",
       "      <td>https://is1-ssl.mzstatic.com/image/thumb/Purpl...</td>\n",
       "      <td>Construct - fight - win!</td>\n",
       "      <td>4.4</td>\n",
       "      <td>0.00</td>\n",
       "      <td>0</td>\n",
       "      <td>2019-04-12</td>\n",
       "      <td>It’s creative, intuitive, and I haven’t played...</td>\n",
       "      <td>18746</td>\n",
       "      <td>26</td>\n",
       "      <td>554</td>\n",
       "      <td>24</td>\n",
       "      <td>114.4</td>\n",
       "      <td>0.19</td>\n",
       "      <td>0</td>\n",
       "    </tr>\n",
       "    <tr>\n",
       "      <th>461</th>\n",
       "      <td>‎MARVEL Puzzle Quest: Hero RPG</td>\n",
       "      <td>Marvel Comics Super Heroes come to life in thi...</td>\n",
       "      <td>https://is2-ssl.mzstatic.com/image/thumb/Purpl...</td>\n",
       "      <td>Avengers Fight: Match 3 Games</td>\n",
       "      <td>4.6</td>\n",
       "      <td>0.00</td>\n",
       "      <td>0</td>\n",
       "      <td>2020-10-26</td>\n",
       "      <td>This game is great. It is the only game I’ve e...</td>\n",
       "      <td>19554</td>\n",
       "      <td>21100</td>\n",
       "      <td>3552</td>\n",
       "      <td>29</td>\n",
       "      <td>97060.0</td>\n",
       "      <td>3235.33</td>\n",
       "      <td>1</td>\n",
       "    </tr>\n",
       "    <tr>\n",
       "      <th>441</th>\n",
       "      <td>‎Pocket MUD Pro</td>\n",
       "      <td>Now available on iPhone AND iPad! Pocket MUD P...</td>\n",
       "      <td>https://is3-ssl.mzstatic.com/image/thumb/Purpl...</td>\n",
       "      <td></td>\n",
       "      <td>2.8</td>\n",
       "      <td>2.99</td>\n",
       "      <td>0</td>\n",
       "      <td>2015-02-27</td>\n",
       "      <td>The only issue I have with this is that voiceo...</td>\n",
       "      <td>20031</td>\n",
       "      <td>9</td>\n",
       "      <td>1592</td>\n",
       "      <td>0</td>\n",
       "      <td>25.2</td>\n",
       "      <td>0.01</td>\n",
       "      <td>1</td>\n",
       "    </tr>\n",
       "  </tbody>\n",
       "</table>\n",
       "</div>"
      ],
      "text/plain": [
       "                                name  \\\n",
       "686    ‎Escapists 2: Pocket Breakout   \n",
       "811       ‎Helicopter Simulator 2018   \n",
       "1010                  ‎Zombie Motors   \n",
       "461   ‎MARVEL Puzzle Quest: Hero RPG   \n",
       "441                  ‎Pocket MUD Pro   \n",
       "\n",
       "                                            description  \\\n",
       "686   The Escapists 2 is a hilariously thrilling, sa...   \n",
       "811   Master all the helicopters controls in this am...   \n",
       "1010  Protect the zombie apocalypse! Zombies have wo...   \n",
       "461   Marvel Comics Super Heroes come to life in thi...   \n",
       "441   Now available on iPhone AND iPad! Pocket MUD P...   \n",
       "\n",
       "                                                   icon  \\\n",
       "686   https://is3-ssl.mzstatic.com/image/thumb/Purpl...   \n",
       "811   https://is1-ssl.mzstatic.com/image/thumb/Purpl...   \n",
       "1010  https://is1-ssl.mzstatic.com/image/thumb/Purpl...   \n",
       "461   https://is2-ssl.mzstatic.com/image/thumb/Purpl...   \n",
       "441   https://is3-ssl.mzstatic.com/image/thumb/Purpl...   \n",
       "\n",
       "                            summary  rating  price  rank date_latest  \\\n",
       "686         Prison Escape Simulator     4.7   6.99     1  2020-03-24   \n",
       "811   SimCopter 2018 Helicopter Sim     2.7   0.00     0  2020-06-14   \n",
       "1010       Construct - fight - win!     4.4   0.00     0  2019-04-12   \n",
       "461   Avengers Fight: Match 3 Games     4.6   0.00     0  2020-10-26   \n",
       "441                                     2.8   2.99     0  2015-02-27   \n",
       "\n",
       "                                                reviews  keywords  \\\n",
       "686   UPDATE: The Past Review was talking about a bu...     19597   \n",
       "811   This is the best game ever, I turn on the heli...     40212   \n",
       "1010  It’s creative, intuitive, and I haven’t played...     18746   \n",
       "461   This game is great. It is the only game I’ve e...     19554   \n",
       "441   The only issue I have with this is that voiceo...     20031   \n",
       "\n",
       "      rating_count  description_length  summary_length   volume  traction  \\\n",
       "686           5400                1155              23  25380.0    103.17   \n",
       "811            165                1187              29    445.5      2.72   \n",
       "1010            26                 554              24    114.4      0.19   \n",
       "461          21100                3552              29  97060.0   3235.33   \n",
       "441              9                1592               0     25.2      0.01   \n",
       "\n",
       "      classify  \n",
       "686          1  \n",
       "811          1  \n",
       "1010         0  \n",
       "461          1  \n",
       "441          1  "
      ]
     },
     "execution_count": 144,
     "metadata": {},
     "output_type": "execute_result"
    }
   ],
   "source": [
    "from sklearn.model_selection import train_test_split\n",
    "app_train, app_test = train_test_split(apps_all, test_size = 0.2, random_state = 15)\n",
    "print(\"App Training:\")\n",
    "app_train.head()"
   ]
  },
  {
   "cell_type": "code",
   "execution_count": 351,
   "metadata": {},
   "outputs": [
    {
     "name": "stdout",
     "output_type": "stream",
     "text": [
      "App Testing:\n"
     ]
    },
    {
     "data": {
      "text/html": [
       "<div>\n",
       "<style scoped>\n",
       "    .dataframe tbody tr th:only-of-type {\n",
       "        vertical-align: middle;\n",
       "    }\n",
       "\n",
       "    .dataframe tbody tr th {\n",
       "        vertical-align: top;\n",
       "    }\n",
       "\n",
       "    .dataframe thead th {\n",
       "        text-align: right;\n",
       "    }\n",
       "</style>\n",
       "<table border=\"1\" class=\"dataframe\">\n",
       "  <thead>\n",
       "    <tr style=\"text-align: right;\">\n",
       "      <th></th>\n",
       "      <th>name</th>\n",
       "      <th>description</th>\n",
       "      <th>icon</th>\n",
       "      <th>summary</th>\n",
       "      <th>rating</th>\n",
       "      <th>price</th>\n",
       "      <th>rank</th>\n",
       "      <th>date_latest</th>\n",
       "      <th>reviews</th>\n",
       "      <th>keywords</th>\n",
       "      <th>rating_count</th>\n",
       "      <th>description_length</th>\n",
       "      <th>summary_length</th>\n",
       "      <th>volume</th>\n",
       "      <th>traction</th>\n",
       "      <th>classify</th>\n",
       "    </tr>\n",
       "  </thead>\n",
       "  <tbody>\n",
       "    <tr>\n",
       "      <th>437</th>\n",
       "      <td>‎Her Majesty's SPIFFING</td>\n",
       "      <td>The Empire Staggers Back! After Britain electe...</td>\n",
       "      <td>https://is1-ssl.mzstatic.com/image/thumb/Purpl...</td>\n",
       "      <td></td>\n",
       "      <td>4.4</td>\n",
       "      <td>3.99</td>\n",
       "      <td>0</td>\n",
       "      <td>2017-05-12</td>\n",
       "      <td>Filled with great humor and fun, it's short bu...</td>\n",
       "      <td>19599</td>\n",
       "      <td>13</td>\n",
       "      <td>1477</td>\n",
       "      <td>0</td>\n",
       "      <td>57.2</td>\n",
       "      <td>0.04</td>\n",
       "      <td>1</td>\n",
       "    </tr>\n",
       "    <tr>\n",
       "      <th>944</th>\n",
       "      <td>‎S.O.S</td>\n",
       "      <td>「たすけてぇぇ！S.O.S！」 遭難者を全員救助せよぉぉぉ！！！ ■遊び方  右画面タップの...</td>\n",
       "      <td>https://is3-ssl.mzstatic.com/image/thumb/Purpl...</td>\n",
       "      <td></td>\n",
       "      <td>0.0</td>\n",
       "      <td>0.00</td>\n",
       "      <td>0</td>\n",
       "      <td>2015-09-07</td>\n",
       "      <td></td>\n",
       "      <td>18787</td>\n",
       "      <td>0</td>\n",
       "      <td>338</td>\n",
       "      <td>0</td>\n",
       "      <td>0.0</td>\n",
       "      <td>0.00</td>\n",
       "      <td>0</td>\n",
       "    </tr>\n",
       "    <tr>\n",
       "      <th>540</th>\n",
       "      <td>‎Acrobat Star Show</td>\n",
       "      <td>~~&gt; Congrats! You’ve been accepted to the hott...</td>\n",
       "      <td>https://is5-ssl.mzstatic.com/image/thumb/Purpl...</td>\n",
       "      <td>Show 'em what you got!</td>\n",
       "      <td>4.7</td>\n",
       "      <td>0.00</td>\n",
       "      <td>1</td>\n",
       "      <td>2020-10-07</td>\n",
       "      <td>Ever sense ice princess came out to the App St...</td>\n",
       "      <td>40050</td>\n",
       "      <td>63800</td>\n",
       "      <td>1487</td>\n",
       "      <td>22</td>\n",
       "      <td>299860.0</td>\n",
       "      <td>6119.59</td>\n",
       "      <td>1</td>\n",
       "    </tr>\n",
       "    <tr>\n",
       "      <th>887</th>\n",
       "      <td>‎Neon Fidget Spinner Simulator</td>\n",
       "      <td>Work pressure and life stress is too much? Swi...</td>\n",
       "      <td>https://is3-ssl.mzstatic.com/image/thumb/Purpl...</td>\n",
       "      <td>DIY Neon Fidget Hand Spinner!</td>\n",
       "      <td>0.0</td>\n",
       "      <td>0.00</td>\n",
       "      <td>0</td>\n",
       "      <td></td>\n",
       "      <td></td>\n",
       "      <td>19635</td>\n",
       "      <td>0</td>\n",
       "      <td>1014</td>\n",
       "      <td>29</td>\n",
       "      <td>0.0</td>\n",
       "      <td>0.00</td>\n",
       "      <td>0</td>\n",
       "    </tr>\n",
       "    <tr>\n",
       "      <th>422</th>\n",
       "      <td>‎Spartan Firefight</td>\n",
       "      <td>Get ready for the Firefight! From the creators...</td>\n",
       "      <td>https://is3-ssl.mzstatic.com/image/thumb/Purpl...</td>\n",
       "      <td>Get ready for the Firefight!</td>\n",
       "      <td>4.8</td>\n",
       "      <td>0.00</td>\n",
       "      <td>0</td>\n",
       "      <td>2020-10-02</td>\n",
       "      <td>Easily my favorite game on the App Store! I ju...</td>\n",
       "      <td>18916</td>\n",
       "      <td>861</td>\n",
       "      <td>1515</td>\n",
       "      <td>28</td>\n",
       "      <td>4132.8</td>\n",
       "      <td>76.53</td>\n",
       "      <td>1</td>\n",
       "    </tr>\n",
       "  </tbody>\n",
       "</table>\n",
       "</div>"
      ],
      "text/plain": [
       "                               name  \\\n",
       "437         ‎Her Majesty's SPIFFING   \n",
       "944                          ‎S.O.S   \n",
       "540              ‎Acrobat Star Show   \n",
       "887  ‎Neon Fidget Spinner Simulator   \n",
       "422              ‎Spartan Firefight   \n",
       "\n",
       "                                           description  \\\n",
       "437  The Empire Staggers Back! After Britain electe...   \n",
       "944  「たすけてぇぇ！S.O.S！」 遭難者を全員救助せよぉぉぉ！！！ ■遊び方  右画面タップの...   \n",
       "540  ~~> Congrats! You’ve been accepted to the hott...   \n",
       "887  Work pressure and life stress is too much? Swi...   \n",
       "422  Get ready for the Firefight! From the creators...   \n",
       "\n",
       "                                                  icon  \\\n",
       "437  https://is1-ssl.mzstatic.com/image/thumb/Purpl...   \n",
       "944  https://is3-ssl.mzstatic.com/image/thumb/Purpl...   \n",
       "540  https://is5-ssl.mzstatic.com/image/thumb/Purpl...   \n",
       "887  https://is3-ssl.mzstatic.com/image/thumb/Purpl...   \n",
       "422  https://is3-ssl.mzstatic.com/image/thumb/Purpl...   \n",
       "\n",
       "                           summary  rating  price  rank date_latest  \\\n",
       "437                                    4.4   3.99     0  2017-05-12   \n",
       "944                                    0.0   0.00     0  2015-09-07   \n",
       "540         Show 'em what you got!     4.7   0.00     1  2020-10-07   \n",
       "887  DIY Neon Fidget Hand Spinner!     0.0   0.00     0               \n",
       "422   Get ready for the Firefight!     4.8   0.00     0  2020-10-02   \n",
       "\n",
       "                                               reviews  keywords  \\\n",
       "437  Filled with great humor and fun, it's short bu...     19599   \n",
       "944                                                        18787   \n",
       "540  Ever sense ice princess came out to the App St...     40050   \n",
       "887                                                        19635   \n",
       "422  Easily my favorite game on the App Store! I ju...     18916   \n",
       "\n",
       "     rating_count  description_length  summary_length    volume  traction  \\\n",
       "437            13                1477               0      57.2      0.04   \n",
       "944             0                 338               0       0.0      0.00   \n",
       "540         63800                1487              22  299860.0   6119.59   \n",
       "887             0                1014              29       0.0      0.00   \n",
       "422           861                1515              28    4132.8     76.53   \n",
       "\n",
       "     classify  \n",
       "437         1  \n",
       "944         0  \n",
       "540         1  \n",
       "887         0  \n",
       "422         1  "
      ]
     },
     "execution_count": 351,
     "metadata": {},
     "output_type": "execute_result"
    }
   ],
   "source": [
    "print(\"App Testing:\")\n",
    "app_test.head()"
   ]
  },
  {
   "cell_type": "markdown",
   "metadata": {},
   "source": [
    "Since our outputs will either be 0 (normal app) or 1 (popular app), it is important to use a logistic regression model here, with all of our aforementioned variables as input."
   ]
  },
  {
   "cell_type": "code",
   "execution_count": 146,
   "metadata": {},
   "outputs": [
    {
     "name": "stdout",
     "output_type": "stream",
     "text": [
      "Prediction Accuracy (Training Data):  69.4%\n",
      "Prediction Accuracy (Test Data):  70.9%\n"
     ]
    }
   ],
   "source": [
    "from sklearn.linear_model import LogisticRegression\n",
    "\n",
    "model_pred = LogisticRegression(solver=\"lbfgs\", max_iter=1000).fit(app_train[attributes], app_train[\"classify\"])\n",
    "\n",
    "correct = sum(app_train[\"classify\"] == model_pred.predict(app_train[attributes]))\n",
    "total_test = len(app_train)\n",
    "print(\"Prediction Accuracy (Training Data): {per: .1f}%\".format(per = 100 * (correct / total_test)))\n",
    "\n",
    "correct = sum(app_test[\"classify\"] == model_pred.predict(app_test[attributes]))\n",
    "total_test = len(app_test)\n",
    "print(\"Prediction Accuracy (Test Data): {per: .1f}%\".format(per = 100 * (correct / total_test)))"
   ]
  },
  {
   "cell_type": "markdown",
   "metadata": {},
   "source": [
    "The original model seems to perform well: it achieves an accuracy of 69.4% and 70.9% on the training / testing data, respectively. To verify these percentages, we will also print the R-squared scores, since, in theory, the R-squared (depending on SKLearn's implementation, as there are different computations for it) should be close to the accuracy."
   ]
  },
  {
   "cell_type": "code",
   "execution_count": 288,
   "metadata": {},
   "outputs": [
    {
     "name": "stdout",
     "output_type": "stream",
     "text": [
      "Training R-squared: 0.694\n",
      "Testing R-squared: 0.709\n"
     ]
    }
   ],
   "source": [
    "print(\"Training R-squared: \" + str(round(model_pred.score(app_train[attributes], app_train[\"classify\"]), 3)))\n",
    "print(\"Testing R-squared: \" + str(round(model_pred.score(app_test[attributes], app_test[\"classify\"]), 3)))"
   ]
  },
  {
   "cell_type": "markdown",
   "metadata": {},
   "source": [
    "As expected, the R-squared values (the proportion of the results that can be attributed to the given input variables) are actually equal to the accuracy of the model. However, is this percentage quantatatively *good*? To know this, let us examine the baseline proportion of popular apps in the sample (if 70% of the apps in the training set are \"popular\", for example, then this prediction is not so great, as it falls exactly on the baseline!)"
   ]
  },
  {
   "cell_type": "code",
   "execution_count": 289,
   "metadata": {},
   "outputs": [
    {
     "name": "stdout",
     "output_type": "stream",
     "text": [
      "Popular Apps in Training Set: 644\n",
      "Total Apps in Training Set: 1452\n",
      "Baseline Proportion: 0.4490358126721763\n"
     ]
    }
   ],
   "source": [
    "print(\"Popular Apps in Training Set: \"+str(len(app_train[app_train[\"classify\"] == 1])))\n",
    "print(\"Total Apps in Training Set: \"+str(len(app_train)))\n",
    "print(\"Baseline Proportion: \"+str(652/1452))"
   ]
  },
  {
   "cell_type": "markdown",
   "metadata": {},
   "source": [
    "The baseline proportion of \"popular apps\" we are working with is roughly 44.9%. So, if our model were to given random classifications every time, we would expect around 45% accuracy. As such, our original model's performance of 70% is more impressive than expected."
   ]
  },
  {
   "cell_type": "markdown",
   "metadata": {},
   "source": [
    "It is important to note though, that this model utilizes *all* of the attributes we provided. For the next section, we will take a deeper look at some of the independent attributes, and how each one (or combinations of subsets of the original 9 attributes) affect the model's accuracy. "
   ]
  },
  {
   "cell_type": "markdown",
   "metadata": {},
   "source": [
    "We begin with the goal of identifying which single factor(s) have the *most* influence in creating an accurate model. We do this by looping through every single attribute, and using it to create its own, single-variable predictor model, and we output the overall accuracy of each:"
   ]
  },
  {
   "cell_type": "code",
   "execution_count": 352,
   "metadata": {},
   "outputs": [
    {
     "name": "stdout",
     "output_type": "stream",
     "text": [
      "Accuracy of keywords: 0.536\n",
      "Accuracy of rating: 0.676\n",
      "Accuracy of price: 0.67\n",
      "Accuracy of rank: 0.632\n",
      "Accuracy of rating_count: 0.593\n",
      "Accuracy of description_length: 0.588\n",
      "Accuracy of summary_length: 0.61\n",
      "Accuracy of volume: 0.593\n",
      "Accuracy of traction: 0.681\n"
     ]
    }
   ],
   "source": [
    "for at in attributes:\n",
    "    single_pred = LogisticRegression(solver=\"lbfgs\", max_iter=1000).fit(app_train[[at]], app_train[\"classify\"])\n",
    "    print(\"Accuracy of \"+at+\": \"+str(round(single_pred.score(app_test[[at]], app_test[\"classify\"]), 3)))"
   ]
  },
  {
   "cell_type": "markdown",
   "metadata": {},
   "source": [
    "Based on each individual accuracy, it can be seen that the single most prevalent factors in accurate indentification of a popular app is traction (68.1% accurate), rating (67.6% accurate), and price (67% accurate). On their own though, most factors are not particularly insightful predictors, and *none* of them exceed the multivariate prediction on their own. This emphasizes the idea that, when combined all together, many of these not-independently-strong factors can contribute to a much higher overall multivariate accuracy. Is it possible though to simplify our model (reduce the number of factors needed) to acheive just as high of an accuracy? To experiment with this, we will create a model using only our top 3 individual factors: traction, rating, and price:"
   ]
  },
  {
   "cell_type": "code",
   "execution_count": 301,
   "metadata": {},
   "outputs": [
    {
     "name": "stdout",
     "output_type": "stream",
     "text": [
      "Training Accuracy (rating, price, traction): 0.635\n",
      "Testing Accuracy (rating, price, traction): 0.701\n"
     ]
    }
   ],
   "source": [
    "attr = [\"rating\" , \"price\", \"traction\"]\n",
    "model = LogisticRegression(solver=\"lbfgs\", max_iter=1000).fit(app_train[attr], app_train[\"classify\"])\n",
    "print(\"Training Accuracy (rating, price, traction): \" + str(round(model.score(app_train[attr], app_train[\"classify\"]), 3)))\n",
    "print(\"Testing Accuracy (rating, price, traction): \" + str(round(model.score(app_test[attr], app_test[\"classify\"]), 3)))"
   ]
  },
  {
   "cell_type": "markdown",
   "metadata": {},
   "source": [
    "This newer model actually performs *lower* on the training data (63.5%), although the test accuracy is a bit higher at (70.1%, but still not exceeding the original model). This suggests that some combinations of attributes for our models may cause confounding results, and thus, lower accuracy. With this discovery, we will attempt to try a few combinations of variables to see how they impact the results."
   ]
  },
  {
   "cell_type": "markdown",
   "metadata": {},
   "source": [
    "First, let's exclude volume and summary (some of the lower accuracy predictors):"
   ]
  },
  {
   "cell_type": "code",
   "execution_count": 303,
   "metadata": {},
   "outputs": [
    {
     "name": "stdout",
     "output_type": "stream",
     "text": [
      "Training Accuracy (all factors EXCEPT volume / summary): 0.72\n",
      "Testing Accuracy (all factors EXCEPT volume / summary): 0.742\n"
     ]
    }
   ],
   "source": [
    "attr = [\"keywords\", \"rating\", \"price\", \"rank\", \"rating_count\", \"description_length\", \"traction\"]\n",
    "model = LogisticRegression(solver=\"lbfgs\", max_iter=1000).fit(app_train[attr], app_train[\"classify\"])\n",
    "print(\"Training Accuracy (all factors EXCEPT volume / summary): \" + str(round(model.score(app_train[attr], app_train[\"classify\"]), 3)))\n",
    "print(\"Testing Accuracy (all factors EXCEPT volume / summary): \" + str(round(model.score(app_test[attr], app_test[\"classify\"]), 3)))"
   ]
  },
  {
   "cell_type": "markdown",
   "metadata": {},
   "source": [
    "The model above emphasizes our point above: by simply *removing* two attributes (specifically volume and summary length) we were able to *increase* our model's accuracy by a relatively strong amount. Below, we continue to remove a few more attributes (pice, rank, rating_count) to see the effects:"
   ]
  },
  {
   "cell_type": "code",
   "execution_count": 305,
   "metadata": {},
   "outputs": [
    {
     "name": "stdout",
     "output_type": "stream",
     "text": [
      "Training Accuracy (all factors EXCEPT volume, summary, price, rank, rating_count): 0.566\n",
      "Testing Accuracy (all factors EXCEPT volume, summary, price, rank, rating_count): 0.549\n"
     ]
    }
   ],
   "source": [
    "attr_bad = [\"keywords\", \"rating\", \"description_length\", \"traction\"]\n",
    "model_bad = LogisticRegression(solver=\"lbfgs\", max_iter=1000).fit(app_train[attr_bad], app_train[\"classify\"])\n",
    "print(\"Training Accuracy (all factors EXCEPT volume, summary, price, rank, rating_count): \" + str(round(model_bad.score(app_train[attr_bad], app_train[\"classify\"]), 3)))\n",
    "print(\"Testing Accuracy (all factors EXCEPT volume, summary, price, rank, rating_count): \" + str(round(model_bad.score(app_test[attr_bad], app_test[\"classify\"]), 3)))"
   ]
  },
  {
   "cell_type": "markdown",
   "metadata": {},
   "source": [
    "As evident by the near-baseline accuracy above, it turns out that in regards to the other variables in the model, price, rank, and rating_count were all crucial factors, and without them, results were much worse. To go a step further, let us remove an additional, important factor (traction) to see how the model is impacted:"
   ]
  },
  {
   "cell_type": "code",
   "execution_count": 308,
   "metadata": {},
   "outputs": [
    {
     "name": "stdout",
     "output_type": "stream",
     "text": [
      "Training Accuracy (now without traction): 0.663\n",
      "Testing Accuracy (now without traction): 0.684\n"
     ]
    }
   ],
   "source": [
    "attr = [\"keywords\", \"rating\", \"description_length\"]\n",
    "model = LogisticRegression(solver=\"lbfgs\", max_iter=1000).fit(app_train[attr], app_train[\"classify\"])\n",
    "print(\"Training Accuracy (now without traction): \" + str(round(model.score(app_train[attr], app_train[\"classify\"]), 3)))\n",
    "print(\"Testing Accuracy (now without traction): \" + str(round(model.score(app_test[attr], app_test[\"classify\"]), 3)))"
   ]
  },
  {
   "cell_type": "markdown",
   "metadata": {},
   "source": [
    "Interestingly, traction--the attribute with the indepedently highest accuracy--improved our accuracy here on the test data by 13.5%...when it was *removed*. This concludes our evidence that there indeed seem to be many confounding factors in the data, to the extent that even well-performing features (such as traction) have the potential to decrease specific models sharply, based on the other information availible."
   ]
  },
  {
   "cell_type": "markdown",
   "metadata": {},
   "source": [
    "Although what we have gathered thus far emphasizes an extremely complex, interwoven relationship between all of these variables and factors that go into classifying an app, it is not quite satisfying to have a model that classifies an app just \"well enough\". There are many combinations and subsets of attributes we can choose, many of which would likely achieve higher accuracy results than expected, and it would be incomplete if we did not delve into exploration to find the most optimal possibilies for our model. "
   ]
  },
  {
   "cell_type": "markdown",
   "metadata": {},
   "source": [
    "Instead of going through every single possible subset and combination of attributes available, we propose a heuristic: <br><br>\n",
    "We will examine models from 1 attribute (9 possibilities) all the way to models with all 9 attributes (the single, original model). We choose the attributes randomly (using random.sample) and perform the same logistic regression, recording the accuracy and attributes (where accuracy is the average of the training accuracy and the test accuracy). If the accuracy of the given random combination exceeds the current highest accuracy, we set the new best_acc to this value, and the best_attr becomes the list of sttributes for that accuracy. We start by repeating this with 10 random samples for every length."
   ]
  },
  {
   "cell_type": "code",
   "execution_count": 323,
   "metadata": {},
   "outputs": [
    {
     "name": "stdout",
     "output_type": "stream",
     "text": [
      "Best Attributes in Sample: description_length, price, rating_count, volume, rank, traction\n",
      "Accuracy of Given Attributes: 0.778\n"
     ]
    }
   ],
   "source": [
    "import random\n",
    "attributes = [\"keywords\", \"rating\", \"price\", \"rank\", \"rating_count\", \"description_length\", \"summary_length\", \"volume\", \"traction\"]\n",
    "best_attr = []\n",
    "best_acc = 0.0\n",
    "for length in range(10):\n",
    "    if (length > 0):\n",
    "        for i in range(10):\n",
    "            attr_curr = random.sample(attributes, length)\n",
    "            model = LogisticRegression(solver=\"lbfgs\", max_iter=1000).fit(app_train[attr_curr], app_train[\"classify\"])\n",
    "            score1 = model.score(app_train[attr_curr], app_train[\"classify\"])\n",
    "            score2 = model.score(app_test[attr_curr], app_test[\"classify\"])\n",
    "            score_curr = (score1 + score2) / 2\n",
    "            if score_curr > best_acc:\n",
    "                best_acc = score_curr\n",
    "                best_attr = attr_curr\n",
    "s = \"\"\n",
    "for a in best_attr:\n",
    "    s += a + \", \"\n",
    "s = s[:-2]\n",
    "print(\"Best Attributes in Sample: \"+ s)\n",
    "print(\"Accuracy of Given Attributes: \" + str(round(best_acc, 3)))"
   ]
  },
  {
   "cell_type": "markdown",
   "metadata": {},
   "source": [
    "With only 10 combinations per length (1..9), we already acheive a model already better than our current best model--77.8% compared to the previously achieved (72 + 74.2) / 2 = 73.1%. Let us increase our number of combinations to 50 per length, in order to test more combinations:"
   ]
  },
  {
   "cell_type": "code",
   "execution_count": 325,
   "metadata": {},
   "outputs": [
    {
     "name": "stdout",
     "output_type": "stream",
     "text": [
      "Best Attributes in Sample: traction, price, rank, volume, summary_length\n",
      "Accuracy of Given Attributes: 0.788\n"
     ]
    }
   ],
   "source": [
    "import random\n",
    "attributes = [\"keywords\", \"rating\", \"price\", \"rank\", \"rating_count\", \"description_length\", \"summary_length\", \"volume\", \"traction\"]\n",
    "best_attr = []\n",
    "best_acc = 0.0\n",
    "for length in range(10):\n",
    "    if (length > 0):\n",
    "        for i in range(50):\n",
    "            attr_curr = random.sample(attributes, length)\n",
    "            model = LogisticRegression(solver=\"lbfgs\", max_iter=1000).fit(app_train[attr_curr], app_train[\"classify\"])\n",
    "            score1 = model.score(app_train[attr_curr], app_train[\"classify\"])\n",
    "            score2 = model.score(app_test[attr_curr], app_test[\"classify\"])\n",
    "            score_curr = (score1 + score2) / 2\n",
    "            if score_curr > best_acc:\n",
    "                best_acc = score_curr\n",
    "                best_attr = attr_curr\n",
    "s = \"\"\n",
    "for a in best_attr:\n",
    "    s += a + \", \"\n",
    "s = s[:-2]\n",
    "print(\"Best Attributes in Sample: \"+ s)\n",
    "print(\"Accuracy of Given Attributes: \" + str(round(best_acc, 3)))"
   ]
  },
  {
   "cell_type": "markdown",
   "metadata": {},
   "source": [
    "We have increased even higher here! To now go for a final, exhaustive test, we will perform a dynamic number of combinations per length (10000 / current length) to see the comprehensive results:"
   ]
  },
  {
   "cell_type": "code",
   "execution_count": 329,
   "metadata": {},
   "outputs": [
    {
     "name": "stdout",
     "output_type": "stream",
     "text": [
      "Best Attributes in Sample: price, traction, rank, volume\n",
      "Accuracy of Given Attributes: 0.795\n"
     ]
    }
   ],
   "source": [
    "import random\n",
    "attributes = [\"keywords\", \"rating\", \"price\", \"rank\", \"rating_count\", \"description_length\", \"summary_length\", \"volume\", \"traction\"]\n",
    "best_attr = []\n",
    "best_acc = 0.0\n",
    "for length in range(10):\n",
    "    if (length > 0):\n",
    "        for i in range(int(10000 / length)):\n",
    "            attr_curr = random.sample(attributes, length)\n",
    "            model = LogisticRegression(solver=\"lbfgs\", max_iter=1000).fit(app_train[attr_curr], app_train[\"classify\"])\n",
    "            score1 = model.score(app_train[attr_curr], app_train[\"classify\"])\n",
    "            score2 = model.score(app_test[attr_curr], app_test[\"classify\"])\n",
    "            score_curr = (score1 + score2) / 2\n",
    "            if score_curr > best_acc:\n",
    "                best_acc = score_curr\n",
    "                best_attr = attr_curr\n",
    "s = \"\"\n",
    "for a in best_attr:\n",
    "    s += a + \", \"\n",
    "s = s[:-2]\n",
    "print(\"Best Attributes in Sample: \"+ s)\n",
    "print(\"Accuracy of Given Attributes: \" + str(round(best_acc, 3)))"
   ]
  },
  {
   "cell_type": "markdown",
   "metadata": {},
   "source": [
    "Our best model identified contains the price, traction, rank, and volume attributes, with an accuracy of 79.5%. Let's \"zoom in\" on this model individually:"
   ]
  },
  {
   "cell_type": "code",
   "execution_count": 331,
   "metadata": {},
   "outputs": [
    {
     "name": "stdout",
     "output_type": "stream",
     "text": [
      "Best Model Training Accuracy: 0.797\n",
      "Best Model Test Accuracy: 0.794\n"
     ]
    }
   ],
   "source": [
    "attr_BEST = [ \"price\", \"traction\", \"rank\", \"volume\"]\n",
    "model_BEST = LogisticRegression(solver=\"lbfgs\", max_iter=1000).fit(app_train[attr_BEST], app_train[\"classify\"])\n",
    "print(\"Best Model Training Accuracy: \" + str(round(model_BEST.score(app_train[attr_BEST], app_train[\"classify\"]), 3)))\n",
    "print(\"Best Model Test Accuracy: \" + str(round(model_BEST.score(app_test[attr_BEST], app_test[\"classify\"]), 3)))"
   ]
  },
  {
   "cell_type": "markdown",
   "metadata": {},
   "source": [
    "Given that the original baseline proportion is 44.9%, our final prediction results of 79.5% accuracy (averaged train/test) are 1.77 times higher than the baseline proportion. We were also able to improve our original model 9.35 percentage points by simply exhausting and testing different combinations of attributes. Although not perfect, this seems to be a relatively strong indication that the final factors we considered (price, traction, rank, volume) are accurate predictors of app popularity."
   ]
  },
  {
   "cell_type": "markdown",
   "metadata": {},
   "source": [
    "Next though, we must consider whether or not these results are significant. To gather an initial idea, we will get a summary of our model's p-values from statmodels (as shown in lecture)."
   ]
  },
  {
   "cell_type": "code",
   "execution_count": 337,
   "metadata": {},
   "outputs": [
    {
     "data": {
      "text/plain": [
       "price       1.743293e-39\n",
       "traction    2.382123e-01\n",
       "rank        4.321357e-58\n",
       "volume      1.208163e-02\n",
       "dtype: float64"
      ]
     },
     "execution_count": 337,
     "metadata": {},
     "output_type": "execute_result"
    }
   ],
   "source": [
    "import statsmodels.api as sm\n",
    "est = sm.OLS(apps_all[\"classify\"], apps_all[attr_BEST]).fit()\n",
    "est.pvalues"
   ]
  },
  {
   "cell_type": "markdown",
   "metadata": {},
   "source": [
    "As seen by intial interpretation, our p-values are extremely low (roughly 0) for every factor except volume, which is 0.012, and traction, which has a p-value of .238 (the only *non*-significant variable). As such, we can conclude that our results are very significant for the most part, and that the results we achieved are extremely unlikely due to chance. "
   ]
  },
  {
   "cell_type": "markdown",
   "metadata": {},
   "source": [
    "Finally, we will sum it all together using our own permutation test, using the statmodels results as a guideline. In order to perform this permutation test, we permute our y-values (the \"classify\" column) in order to achieve a \"random\" model, that should, in theory, have no correlation. We will compare the fake trained model's accuracy to our real best model's accuracy, and see the proportion of fake models predictions that exceeded the accuracy of the real model's predictions. After 10000 permutations, we will see the proportion of times the fake model beat the real model. This will be our p-value."
   ]
  },
  {
   "cell_type": "markdown",
   "metadata": {},
   "source": [
    "But first, to make sure our fake model and permutations function properly, we will compare two fake models to each other in a 100 iteration test. We should expect a p-value around 0.5:"
   ]
  },
  {
   "cell_type": "code",
   "execution_count": 348,
   "metadata": {},
   "outputs": [
    {
     "name": "stdout",
     "output_type": "stream",
     "text": [
      "P-value (for 2 fake models): 0.55\n",
      "Average R-squared value of fake model: 0.517\n"
     ]
    }
   ],
   "source": [
    "import numpy as np\n",
    "def permute(y):\n",
    "    # shuffle modifies the array itself, so first make a copy\n",
    "    permuted_y = y.copy()\n",
    "    # now randomize it\n",
    "    np.random.shuffle(permuted_y.values)\n",
    "    return permuted_y\n",
    "\n",
    "steeper_slopes = 0\n",
    "total_fake_R = 0.0\n",
    "n_permutations = 100\n",
    "permuted_slopes = np.zeros(n_permutations)\n",
    "\n",
    "for i in range(n_permutations):\n",
    "    fake_y = permute(app_train[\"classify\"])\n",
    "    model_fake = LogisticRegression(solver=\"lbfgs\", max_iter=1000).fit(app_train[attr_BEST], fake_y)\n",
    "    \n",
    "    fake_y_2 = permute(app_train[\"classify\"])\n",
    "    model_fake_2 = LogisticRegression(solver=\"lbfgs\", max_iter=1000).fit(app_train[attr_BEST], fake_y_2)\n",
    "    total_fake_R += model_fake.score(app_train[attr_BEST], fake_y)\n",
    "    if sum(np.abs(model_fake.coef_[0])) >= sum(np.abs(model_fake_2.coef_[0])):\n",
    "        steeper_slopes += 1\n",
    "    \n",
    "print(\"P-value (for 2 fake models): \" + str(round((steeper_slopes / n_permutations), 3)))\n",
    "print(\"Average R-squared value of fake model: \" + str(round(total_fake_R / 100, 3)))"
   ]
  },
  {
   "cell_type": "markdown",
   "metadata": {},
   "source": [
    "The p-value is extremely high around the expected 0.5. Also the low R-squared score verifies the randomness. So, the fake models verify that they have, indeed, no relationship. Now we can finally test the fake model against the real model, with 10000 permutations:"
   ]
  },
  {
   "cell_type": "code",
   "execution_count": 350,
   "metadata": {},
   "outputs": [
    {
     "name": "stdout",
     "output_type": "stream",
     "text": [
      "P-value (fake model versus real): 0.0\n",
      "Average R-squared value of fake model: 52.227\n"
     ]
    }
   ],
   "source": [
    "steeper_slopes = 0\n",
    "total_fake_R = 0.0\n",
    "n_permutations = 10000\n",
    "permuted_slopes = np.zeros(n_permutations)\n",
    "\n",
    "for i in range(n_permutations):\n",
    "    fake_y = permute(app_train[\"classify\"])\n",
    "    model_fake = LogisticRegression(solver=\"lbfgs\", max_iter=1000).fit(app_train[attr_BEST], fake_y)\n",
    "    \n",
    "    total_fake_R += model_fake.score(app_train[attr_BEST], fake_y)\n",
    "    if sum(np.abs(model_fake.coef_[0])) >= sum(np.abs(model_BEST.coef_[0])):\n",
    "        steeper_slopes += 1\n",
    "    \n",
    "print(\"P-value (fake model versus real): \" + str(round((steeper_slopes / n_permutations), 4)))\n",
    "print(\"Average R-squared value of fake model: \" + str(round(total_fake_R / 100, 3)))"
   ]
  },
  {
   "cell_type": "markdown",
   "metadata": {},
   "source": [
    "Our average p-score overall is 0.000 over 10000 trials--not a single one of the fake model's predictions exceeded the accuracy of our real model. This again indicates not only a strong relationship between our selected attributes, but a *significant* relationship as well."
   ]
  },
  {
   "cell_type": "markdown",
   "metadata": {},
   "source": [
    "# Conclusion"
   ]
  },
  {
   "cell_type": "markdown",
   "metadata": {},
   "source": [
    "In concluding this project, we were able to go through the entire process of collecting, cleaning, analyzing, testing, and building models from existing data in the real-world (specifically Apple's app store). Through this research, many complex relationships were discovered and analyzed, and through experimentation, the best predicting factors for an app's popularity were identified, tested, and found to be significant. Hence, the end result is the creation of an accurate (roughly 80%), significant (p-value close to 0) model for predicting an app's relative popularity based on its price, traction (volume over time), rank, and volume (reviews * rating). This is useful for current apps in the app store that already have data; however, there are evident limitations. For example, the final model predicts based on collected Apple data from the application, and as such, it cannot be used to give developers any insight into their app *before* it is released. This though, would certainly be the next steps for this project, as less obvious variables and relationships would need to be explored, in hopes of not only giving current developers insight into their apps, but also future developers."
   ]
  }
 ],
 "metadata": {
  "kernelspec": {
   "display_name": "Python 3",
   "language": "python",
   "name": "python3"
  },
  "language_info": {
   "codemirror_mode": {
    "name": "ipython",
    "version": 3
   },
   "file_extension": ".py",
   "mimetype": "text/x-python",
   "name": "python",
   "nbconvert_exporter": "python",
   "pygments_lexer": "ipython3",
   "version": "3.8.3"
  }
 },
 "nbformat": 4,
 "nbformat_minor": 4
}
