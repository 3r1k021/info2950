{
 "cells": [
  {
   "cell_type": "markdown",
   "metadata": {},
   "source": [
    "Before analyses are performed, many of the qualitative categories being used will be converted to a numerics scale. Some examples may be as follows:\n",
    "<br>\n",
    "<br>\n",
    "<u>Image URL</u>: Use an API to extract the primary colors in the icon. Give the color range a subjective score based on how eye-catching the color are (red with a high score, purple possibly with a lower score).<br>\n",
    "<u>Keywords</u>: Generalize all keywords in dataset to find “common” words. Give each individual app a score based on their keywords (certain points given for having the category name as a keyword, the app name as a keyword, any “common” keywords, etc)<br>\n",
    "<u>New Column</u>: Developer popularity (either total number of reviews among all apps, or number of apps created). Important, as popular companies may correlate to a larger audience in promoting an app.<br>\n",
    "Description: Score based on number of verbs (considering these are action/adventure/role-playing/simulation games in our sample).<br>\n",
    "Binary Indicators:<br>\n",
    "<u>Rank</u>: 1 for ranked, 0 for not ranked<br>\n",
    "<u>Summary</u>: 1 for summary, 0 for no summary<br>\n",
    "<br>\n",
    "Prerigistration of Analyses:\n",
    "\n",
    "We have gathered data from “Popular Apps” thus far. So, for the testing phase, we will need to web scrape more data from the general app population. This will be done by likely selecting 10 random applications from every letter page (A-Z) for each of our 4 categories of apps (adventure, action, role-playing, simulation). This will yield 26*10*4 = 1040 apps to train against (very close to the number of popular apps gathered). After gathering and compiling this data, the datasets will be randomly merged with a new rank column (explained above). The popular apps will have a rank of 1. The regular apps will have a rank of 0. We will perform both logistic regression, as well as train/test splits, in order to see how well many of our gathered factors (rating count, overall rating, volume, traction, etc…) can be used to determine popularity of any given app. Pie charts will be compiled in regards to which factors have the most influence (R-squared values from regression). \n",
    "\n",
    "As a second test, we will consider the results from the first test (and our prediction model). From here, we will create many random permutations on the input, and measure the resulting correlations compared to the original correlation, in order to measure the p-value of the given data.\n",
    "\n",
    "More tests will likely be conducted as the research progresses, but for now, these two will be preregistered.\n",
    "<br><br>\n",
    "<u>Questions for Reviewers:</u><br>\n",
    "In the case that these experiments yield nothing at all of significance, although they will remain in the report, is it possible to revise various features of the data and revise "
   ]
  }
 ],
 "metadata": {
  "kernelspec": {
   "display_name": "Python 3",
   "language": "python",
   "name": "python3"
  },
  "language_info": {
   "codemirror_mode": {
    "name": "ipython",
    "version": 3
   },
   "file_extension": ".py",
   "mimetype": "text/x-python",
   "name": "python",
   "nbconvert_exporter": "python",
   "pygments_lexer": "ipython3",
   "version": "3.8.3"
  }
 },
 "nbformat": 4,
 "nbformat_minor": 4
}
